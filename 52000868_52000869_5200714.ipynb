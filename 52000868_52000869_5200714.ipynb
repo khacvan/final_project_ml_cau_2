{
  "cells": [
    {
      "cell_type": "code",
      "source": [
        "# Dữ liệu sử dụng là một tập dữ liệu về thẻ tín dụng, bao gồm thông tin cá nhân và tài chính của khách hàng.\n",
        "#Các thuộc tính bao gồm:\n",
        "#ID khách hàng, giới tính, sở hữu ô tô và bất động sản,số lượng con cái, thu nhập, loại thu nhập,\n",
        "# trình độ học vấn, tình trạng hôn nhân,cách thức sống, ngày sinh, ngày bắt đầu làm việc,\n",
        "#có sở hữu điện thoại và email không,  nghề nghiệp, và số lượng thành viên trong gia đình.\n",
        "\n",
        "\n",
        "# Dữ liệu đã được phân tích rõ trong bản báo cáo.\n",
        "\n",
        "# Tên thành viên\n",
        "#   1 NGUYỄN THỊ THU YẾN - 52000869\n",
        "#   2 NGUYỄN KHẮC VĂN - 52000868\n",
        "#   3 TRƯƠNG THÔNG THẾ THÁI - 52000714\n"
      ],
      "metadata": {
        "id": "HIpkc1k7Cvda"
      },
      "id": "HIpkc1k7Cvda",
      "execution_count": 360,
      "outputs": []
    },
    {
      "cell_type": "markdown",
      "source": [
        "# Import các thư viện cần thiết"
      ],
      "metadata": {
        "id": "WCUxI2RkDxgf"
      },
      "id": "WCUxI2RkDxgf"
    },
    {
      "cell_type": "code",
      "execution_count": null,
      "id": "ed1cc6de",
      "metadata": {
        "execution": {
          "iopub.execute_input": "2023-11-25T15:24:47.098362Z",
          "iopub.status.busy": "2023-11-25T15:24:47.097974Z",
          "iopub.status.idle": "2023-11-25T15:24:52.194497Z",
          "shell.execute_reply": "2023-11-25T15:24:52.192941Z"
        },
        "papermill": {
          "duration": 5.128677,
          "end_time": "2023-11-25T15:24:52.197483",
          "exception": false,
          "start_time": "2023-11-25T15:24:47.068806",
          "status": "completed"
        },
        "tags": [],
        "id": "ed1cc6de",
        "colab": {
          "base_uri": "https://localhost:8080/"
        },
        "outputId": "957feab2-78f1-4adc-b187-ac3838f672c3"
      },
      "outputs": [
        {
          "output_type": "stream",
          "name": "stdout",
          "text": [
            "Environment: Google Colab\n",
            "Requirement already satisfied: catboost in /usr/local/lib/python3.10/dist-packages (1.2.2)\n",
            "Requirement already satisfied: graphviz in /usr/local/lib/python3.10/dist-packages (from catboost) (0.20.1)\n",
            "Requirement already satisfied: matplotlib in /usr/local/lib/python3.10/dist-packages (from catboost) (3.7.1)\n",
            "Requirement already satisfied: numpy>=1.16.0 in /usr/local/lib/python3.10/dist-packages (from catboost) (1.23.5)\n",
            "Requirement already satisfied: pandas>=0.24 in /usr/local/lib/python3.10/dist-packages (from catboost) (1.5.3)\n",
            "Requirement already satisfied: scipy in /usr/local/lib/python3.10/dist-packages (from catboost) (1.11.4)\n",
            "Requirement already satisfied: plotly in /usr/local/lib/python3.10/dist-packages (from catboost) (5.15.0)\n",
            "Requirement already satisfied: six in /usr/local/lib/python3.10/dist-packages (from catboost) (1.16.0)\n",
            "Requirement already satisfied: python-dateutil>=2.8.1 in /usr/local/lib/python3.10/dist-packages (from pandas>=0.24->catboost) (2.8.2)\n",
            "Requirement already satisfied: pytz>=2020.1 in /usr/local/lib/python3.10/dist-packages (from pandas>=0.24->catboost) (2023.3.post1)\n",
            "Requirement already satisfied: contourpy>=1.0.1 in /usr/local/lib/python3.10/dist-packages (from matplotlib->catboost) (1.2.0)\n",
            "Requirement already satisfied: cycler>=0.10 in /usr/local/lib/python3.10/dist-packages (from matplotlib->catboost) (0.12.1)\n",
            "Requirement already satisfied: fonttools>=4.22.0 in /usr/local/lib/python3.10/dist-packages (from matplotlib->catboost) (4.46.0)\n",
            "Requirement already satisfied: kiwisolver>=1.0.1 in /usr/local/lib/python3.10/dist-packages (from matplotlib->catboost) (1.4.5)\n",
            "Requirement already satisfied: packaging>=20.0 in /usr/local/lib/python3.10/dist-packages (from matplotlib->catboost) (23.2)\n",
            "Requirement already satisfied: pillow>=6.2.0 in /usr/local/lib/python3.10/dist-packages (from matplotlib->catboost) (9.4.0)\n",
            "Requirement already satisfied: pyparsing>=2.3.1 in /usr/local/lib/python3.10/dist-packages (from matplotlib->catboost) (3.1.1)\n",
            "Requirement already satisfied: tenacity>=6.2.0 in /usr/local/lib/python3.10/dist-packages (from plotly->catboost) (8.2.3)\n",
            "Requirement already satisfied: ipywidgets in /usr/local/lib/python3.10/dist-packages (7.7.1)\n",
            "Requirement already satisfied: ipykernel>=4.5.1 in /usr/local/lib/python3.10/dist-packages (from ipywidgets) (5.5.6)\n",
            "Requirement already satisfied: ipython-genutils~=0.2.0 in /usr/local/lib/python3.10/dist-packages (from ipywidgets) (0.2.0)\n",
            "Requirement already satisfied: traitlets>=4.3.1 in /usr/local/lib/python3.10/dist-packages (from ipywidgets) (5.7.1)\n",
            "Requirement already satisfied: widgetsnbextension~=3.6.0 in /usr/local/lib/python3.10/dist-packages (from ipywidgets) (3.6.6)\n",
            "Requirement already satisfied: ipython>=4.0.0 in /usr/local/lib/python3.10/dist-packages (from ipywidgets) (7.34.0)\n",
            "Requirement already satisfied: jupyterlab-widgets>=1.0.0 in /usr/local/lib/python3.10/dist-packages (from ipywidgets) (3.0.9)\n",
            "Requirement already satisfied: jupyter-client in /usr/local/lib/python3.10/dist-packages (from ipykernel>=4.5.1->ipywidgets) (6.1.12)\n",
            "Requirement already satisfied: tornado>=4.2 in /usr/local/lib/python3.10/dist-packages (from ipykernel>=4.5.1->ipywidgets) (6.3.2)\n",
            "Requirement already satisfied: setuptools>=18.5 in /usr/local/lib/python3.10/dist-packages (from ipython>=4.0.0->ipywidgets) (67.7.2)\n",
            "Requirement already satisfied: jedi>=0.16 in /usr/local/lib/python3.10/dist-packages (from ipython>=4.0.0->ipywidgets) (0.19.1)\n",
            "Requirement already satisfied: decorator in /usr/local/lib/python3.10/dist-packages (from ipython>=4.0.0->ipywidgets) (4.4.2)\n",
            "Requirement already satisfied: pickleshare in /usr/local/lib/python3.10/dist-packages (from ipython>=4.0.0->ipywidgets) (0.7.5)\n",
            "Requirement already satisfied: prompt-toolkit!=3.0.0,!=3.0.1,<3.1.0,>=2.0.0 in /usr/local/lib/python3.10/dist-packages (from ipython>=4.0.0->ipywidgets) (3.0.43)\n",
            "Requirement already satisfied: pygments in /usr/local/lib/python3.10/dist-packages (from ipython>=4.0.0->ipywidgets) (2.16.1)\n",
            "Requirement already satisfied: backcall in /usr/local/lib/python3.10/dist-packages (from ipython>=4.0.0->ipywidgets) (0.2.0)\n",
            "Requirement already satisfied: matplotlib-inline in /usr/local/lib/python3.10/dist-packages (from ipython>=4.0.0->ipywidgets) (0.1.6)\n",
            "Requirement already satisfied: pexpect>4.3 in /usr/local/lib/python3.10/dist-packages (from ipython>=4.0.0->ipywidgets) (4.9.0)\n",
            "Requirement already satisfied: notebook>=4.4.1 in /usr/local/lib/python3.10/dist-packages (from widgetsnbextension~=3.6.0->ipywidgets) (6.5.5)\n",
            "Requirement already satisfied: parso<0.9.0,>=0.8.3 in /usr/local/lib/python3.10/dist-packages (from jedi>=0.16->ipython>=4.0.0->ipywidgets) (0.8.3)\n",
            "Requirement already satisfied: jinja2 in /usr/local/lib/python3.10/dist-packages (from notebook>=4.4.1->widgetsnbextension~=3.6.0->ipywidgets) (3.1.2)\n",
            "Requirement already satisfied: pyzmq<25,>=17 in /usr/local/lib/python3.10/dist-packages (from notebook>=4.4.1->widgetsnbextension~=3.6.0->ipywidgets) (23.2.1)\n",
            "Requirement already satisfied: argon2-cffi in /usr/local/lib/python3.10/dist-packages (from notebook>=4.4.1->widgetsnbextension~=3.6.0->ipywidgets) (23.1.0)\n",
            "Requirement already satisfied: jupyter-core>=4.6.1 in /usr/local/lib/python3.10/dist-packages (from notebook>=4.4.1->widgetsnbextension~=3.6.0->ipywidgets) (5.5.1)\n",
            "Requirement already satisfied: nbformat in /usr/local/lib/python3.10/dist-packages (from notebook>=4.4.1->widgetsnbextension~=3.6.0->ipywidgets) (5.9.2)\n",
            "Requirement already satisfied: nbconvert>=5 in /usr/local/lib/python3.10/dist-packages (from notebook>=4.4.1->widgetsnbextension~=3.6.0->ipywidgets) (6.5.4)\n",
            "Requirement already satisfied: nest-asyncio>=1.5 in /usr/local/lib/python3.10/dist-packages (from notebook>=4.4.1->widgetsnbextension~=3.6.0->ipywidgets) (1.5.8)\n",
            "Requirement already satisfied: Send2Trash>=1.8.0 in /usr/local/lib/python3.10/dist-packages (from notebook>=4.4.1->widgetsnbextension~=3.6.0->ipywidgets) (1.8.2)\n",
            "Requirement already satisfied: terminado>=0.8.3 in /usr/local/lib/python3.10/dist-packages (from notebook>=4.4.1->widgetsnbextension~=3.6.0->ipywidgets) (0.18.0)\n",
            "Requirement already satisfied: prometheus-client in /usr/local/lib/python3.10/dist-packages (from notebook>=4.4.1->widgetsnbextension~=3.6.0->ipywidgets) (0.19.0)\n",
            "Requirement already satisfied: nbclassic>=0.4.7 in /usr/local/lib/python3.10/dist-packages (from notebook>=4.4.1->widgetsnbextension~=3.6.0->ipywidgets) (1.0.0)\n",
            "Requirement already satisfied: python-dateutil>=2.1 in /usr/local/lib/python3.10/dist-packages (from jupyter-client->ipykernel>=4.5.1->ipywidgets) (2.8.2)\n",
            "Requirement already satisfied: ptyprocess>=0.5 in /usr/local/lib/python3.10/dist-packages (from pexpect>4.3->ipython>=4.0.0->ipywidgets) (0.7.0)\n",
            "Requirement already satisfied: wcwidth in /usr/local/lib/python3.10/dist-packages (from prompt-toolkit!=3.0.0,!=3.0.1,<3.1.0,>=2.0.0->ipython>=4.0.0->ipywidgets) (0.2.12)\n"
          ]
        }
      ],
      "source": [
        "%matplotlib inline\n",
        "%config InlineBackend.figure_format = 'svg'\n",
        "\n",
        "\n",
        "import sys\n",
        "ENV_COLAB = 'google.colab' in sys.modules\n",
        "\n",
        "if ENV_COLAB:\n",
        "    print('Environment: Google Colab')\n",
        "    !pip install catboost\n",
        "    !pip install ipywidgets\n",
        "    !jupyter nbextension enable --py widgetsnbextension\n",
        "\n",
        "import warnings\n",
        "warnings.filterwarnings('ignore')\n",
        "import numpy as np\n",
        "import pandas as pd\n",
        "import matplotlib.pyplot as plt\n",
        "import seaborn as sns\n",
        "\n",
        "import tensorflow as tf\n",
        "from tensorflow.keras.models import Sequential\n",
        "from tensorflow.keras.layers import Dense\n",
        "from tensorflow.keras.layers import Embedding, SimpleRNN\n",
        "from tensorflow.keras.layers import Dense, Dropout\n",
        "\n",
        "\n",
        "from imblearn.over_sampling import SMOTE\n",
        "import itertools\n",
        "from sklearn.svm import SVC\n",
        "\n",
        "from sklearn.model_selection import train_test_split\n",
        "from sklearn.metrics import accuracy_score, confusion_matrix\n",
        "from sklearn.linear_model import LogisticRegression\n",
        "from sklearn.tree import DecisionTreeClassifier\n",
        "from sklearn.ensemble import GradientBoostingClassifier\n",
        "\n",
        "\n",
        "\n",
        "from xgboost import XGBClassifier\n",
        "from lightgbm import LGBMClassifier\n",
        "from catboost import CatBoostClassifier\n",
        "from sklearn import svm\n",
        "from sklearn.ensemble import RandomForestClassifier"
      ]
    },
    {
      "cell_type": "markdown",
      "source": [
        "# 1.1 Đọc dữ liệu, thay đổi tên cột để chuẩn bị dữ liệu làm việc"
      ],
      "metadata": {
        "id": "JTc9I218D4Qg"
      },
      "id": "JTc9I218D4Qg"
    },
    {
      "cell_type": "code",
      "execution_count": null,
      "id": "14d3ae92",
      "metadata": {
        "execution": {
          "iopub.execute_input": "2023-11-25T15:24:52.254704Z",
          "iopub.status.busy": "2023-11-25T15:24:52.254242Z",
          "iopub.status.idle": "2023-11-25T15:24:54.514626Z",
          "shell.execute_reply": "2023-11-25T15:24:54.513213Z"
        },
        "papermill": {
          "duration": 2.292541,
          "end_time": "2023-11-25T15:24:54.517610",
          "exception": false,
          "start_time": "2023-11-25T15:24:52.225069",
          "status": "completed"
        },
        "tags": [],
        "id": "14d3ae92"
      },
      "outputs": [],
      "source": [
        "# Đọc data\n",
        "data = pd.read_csv(\"credit-card-approval-prediction/application_record.csv\")\n",
        "record = pd.read_csv(\"credit-card-approval-prediction/credit_record.csv\")"
      ]
    },
    {
      "cell_type": "code",
      "execution_count": null,
      "id": "fe1d216d",
      "metadata": {
        "execution": {
          "iopub.execute_input": "2023-11-25T15:24:54.575234Z",
          "iopub.status.busy": "2023-11-25T15:24:54.574789Z",
          "iopub.status.idle": "2023-11-25T15:24:54.580088Z",
          "shell.execute_reply": "2023-11-25T15:24:54.578916Z"
        },
        "papermill": {
          "duration": 0.036709,
          "end_time": "2023-11-25T15:24:54.582568",
          "exception": false,
          "start_time": "2023-11-25T15:24:54.545859",
          "status": "completed"
        },
        "tags": [],
        "id": "fe1d216d"
      },
      "outputs": [],
      "source": [
        "plt.rcParams['figure.facecolor'] = 'white'"
      ]
    },
    {
      "cell_type": "code",
      "execution_count": null,
      "id": "15bbaadf",
      "metadata": {
        "execution": {
          "iopub.execute_input": "2023-11-25T15:24:54.638438Z",
          "iopub.status.busy": "2023-11-25T15:24:54.638008Z",
          "iopub.status.idle": "2023-11-25T15:24:54.849841Z",
          "shell.execute_reply": "2023-11-25T15:24:54.848614Z"
        },
        "papermill": {
          "duration": 0.243705,
          "end_time": "2023-11-25T15:24:54.852907",
          "exception": false,
          "start_time": "2023-11-25T15:24:54.609202",
          "status": "completed"
        },
        "tags": [],
        "id": "15bbaadf"
      },
      "outputs": [],
      "source": [
        "# Tìm tất cả các tài khoản người dùng mở trong tháng\n",
        "# nhóm DataFrame theo cột \"ID\" và tính giá trị tối thiểu của cột \"MONTHS_BALANCE\" cho mỗi nhóm\n",
        "begin_month=pd.DataFrame(record.groupby([\"ID\"])[\"MONTHS_BALANCE\"].agg(min))\n",
        "# Đổi tên cột \"MONTHS_BALANCE\" trong DataFrame đầu tháng thành \"begin_month1\".\n",
        "begin_month=begin_month.rename(columns={'MONTHS_BALANCE':'begin_month1'})\n",
        "new_data=pd.merge(data,begin_month,how=\"left\",on=\"ID\") #merge to record data"
      ]
    },
    {
      "cell_type": "markdown",
      "id": "276acac2",
      "metadata": {
        "papermill": {
          "duration": 0.026793,
          "end_time": "2023-11-25T15:24:54.906490",
          "exception": false,
          "start_time": "2023-11-25T15:24:54.879697",
          "status": "completed"
        },
        "tags": [],
        "id": "276acac2"
      },
      "source": [
        "Tạo một cột mới có tên là \"dep_value\" trong DataFrame ghi dữ liệu dựa trên giá trị trong cột \"STATUS\". Đặt \"Yes\" trong cột \"dep_value\" cho các hàng mà cột \"STATUS\" có giá trị '2', '3', '4' hoặc '5'."
      ]
    },
    {
      "cell_type": "code",
      "execution_count": null,
      "id": "e7e7d15e",
      "metadata": {
        "execution": {
          "iopub.execute_input": "2023-11-25T15:24:55.027502Z",
          "iopub.status.busy": "2023-11-25T15:24:55.026372Z",
          "iopub.status.idle": "2023-11-25T15:24:55.803972Z",
          "shell.execute_reply": "2023-11-25T15:24:55.802660Z"
        },
        "papermill": {
          "duration": 0.873439,
          "end_time": "2023-11-25T15:24:55.806739",
          "exception": false,
          "start_time": "2023-11-25T15:24:54.933300",
          "status": "completed"
        },
        "tags": [],
        "id": "e7e7d15e"
      },
      "outputs": [],
      "source": [
        "record['dep_value'] = None\n",
        "record['dep_value'][record['STATUS'] =='2']='Yes'\n",
        "record['dep_value'][record['STATUS'] =='3']='Yes'\n",
        "record['dep_value'][record['STATUS'] =='4']='Yes'\n",
        "record['dep_value'][record['STATUS'] =='5']='Yes'"
      ]
    },
    {
      "cell_type": "markdown",
      "id": "25a9698e",
      "metadata": {
        "papermill": {
          "duration": 0.027008,
          "end_time": "2023-11-25T15:24:55.860766",
          "exception": false,
          "start_time": "2023-11-25T15:24:55.833758",
          "status": "completed"
        },
        "tags": [],
        "id": "25a9698e"
      },
      "source": [
        "Tạo một cột mới 'dep_value' trong DataFrame \"cpunt\" dựa trên số lần xuất hiện của 'dep_value' trong DataFrame \"record\". Sau đó, hợp nhất thông tin này vào DataFrame \"new_data\" dựa trên cột \"ID\" và tạo một cột mới 'target' dựa trên cột 'dep_value'.\n",
        "\n"
      ]
    },
    {
      "cell_type": "code",
      "execution_count": null,
      "id": "32708c71",
      "metadata": {
        "execution": {
          "iopub.execute_input": "2023-11-25T15:24:55.918096Z",
          "iopub.status.busy": "2023-11-25T15:24:55.917692Z",
          "iopub.status.idle": "2023-11-25T15:24:56.230695Z",
          "shell.execute_reply": "2023-11-25T15:24:56.229512Z"
        },
        "papermill": {
          "duration": 0.344663,
          "end_time": "2023-11-25T15:24:56.233553",
          "exception": false,
          "start_time": "2023-11-25T15:24:55.888890",
          "status": "completed"
        },
        "tags": [],
        "id": "32708c71"
      },
      "outputs": [],
      "source": [
        "cpunt=record.groupby('ID').count()\n",
        "cpunt['dep_value'][cpunt['dep_value'] > 0]='Yes'\n",
        "cpunt['dep_value'][cpunt['dep_value'] == 0]='No'\n",
        "cpunt = cpunt[['dep_value']]\n",
        "new_data=pd.merge(new_data,cpunt,how='inner',on='ID')\n",
        "new_data['target']=new_data['dep_value']\n",
        "new_data.loc[new_data['target']=='Yes','target']=1\n",
        "new_data.loc[new_data['target']=='No','target']=0"
      ]
    },
    {
      "cell_type": "markdown",
      "id": "12be191d",
      "metadata": {
        "papermill": {
          "duration": 0.026641,
          "end_time": "2023-11-25T15:24:56.287423",
          "exception": false,
          "start_time": "2023-11-25T15:24:56.260782",
          "status": "completed"
        },
        "tags": [],
        "id": "12be191d"
      },
      "source": [
        "In ấn số lượng giá trị duy nhất trong cột 'dep_value' của DataFrame \"cpunt\" và sau đó in số lượng giá trị chuẩn hóa."
      ]
    },
    {
      "cell_type": "code",
      "execution_count": null,
      "id": "eec254a3",
      "metadata": {
        "execution": {
          "iopub.execute_input": "2023-11-25T15:24:56.345090Z",
          "iopub.status.busy": "2023-11-25T15:24:56.344645Z",
          "iopub.status.idle": "2023-11-25T15:24:56.369753Z",
          "shell.execute_reply": "2023-11-25T15:24:56.368245Z"
        },
        "papermill": {
          "duration": 0.056544,
          "end_time": "2023-11-25T15:24:56.372381",
          "exception": false,
          "start_time": "2023-11-25T15:24:56.315837",
          "status": "completed"
        },
        "tags": [],
        "id": "eec254a3"
      },
      "outputs": [],
      "source": [
        "print(cpunt['dep_value'].value_counts())\n",
        "print(cpunt['dep_value'].value_counts(normalize=True))"
      ]
    },
    {
      "cell_type": "markdown",
      "id": "986557e6",
      "metadata": {
        "papermill": {
          "duration": 0.028152,
          "end_time": "2023-11-25T15:24:56.428002",
          "exception": false,
          "start_time": "2023-11-25T15:24:56.399850",
          "status": "completed"
        },
        "tags": [],
        "id": "986557e6"
      },
      "source": [
        "Đổi tên các cột trong DataFrame \"new_data\" bằng cách sử dụng phương pháp rename."
      ]
    },
    {
      "cell_type": "code",
      "execution_count": null,
      "id": "0c5f0ab7",
      "metadata": {
        "execution": {
          "iopub.execute_input": "2023-11-25T15:24:56.484245Z",
          "iopub.status.busy": "2023-11-25T15:24:56.483841Z",
          "iopub.status.idle": "2023-11-25T15:24:56.491705Z",
          "shell.execute_reply": "2023-11-25T15:24:56.490513Z"
        },
        "papermill": {
          "duration": 0.038607,
          "end_time": "2023-11-25T15:24:56.494213",
          "exception": false,
          "start_time": "2023-11-25T15:24:56.455606",
          "status": "completed"
        },
        "tags": [],
        "id": "0c5f0ab7"
      },
      "outputs": [],
      "source": [
        "new_data.rename(columns={'CODE_GENDER':'Gender','FLAG_OWN_CAR':'Car','FLAG_OWN_REALTY':'Reality',\n",
        "                         'CNT_CHILDREN':'ChldNo','AMT_INCOME_TOTAL':'inc',\n",
        "                         'NAME_EDUCATION_TYPE':'edutp','NAME_FAMILY_STATUS':'famtp',\n",
        "                        'NAME_HOUSING_TYPE':'houtp','FLAG_EMAIL':'email',\n",
        "                         'NAME_INCOME_TYPE':'inctp','FLAG_WORK_PHONE':'wkphone',\n",
        "                         'FLAG_PHONE':'phone','CNT_FAM_MEMBERS':'famsize',\n",
        "                        'OCCUPATION_TYPE':'occyp'\n",
        "                        },inplace=True)\n",
        "# Xử lý các giá trị bị thiếu trong new_data DataFrame bằng phương thức dropna.\n",
        "new_data.dropna()\n",
        "new_data = new_data.mask(new_data == 'NULL').dropna()"
      ]
    },
    {
      "cell_type": "markdown",
      "id": "86439b98",
      "metadata": {
        "papermill": {
          "duration": 0.027232,
          "end_time": "2023-11-25T15:24:56.824543",
          "exception": false,
          "start_time": "2023-11-25T15:24:56.797311",
          "status": "completed"
        },
        "tags": [],
        "id": "86439b98"
      },
      "source": [
        "Tạo một bảng giá trị (IV) cho các biến trong DataFrame \"new_data\", sau đó loại bỏ một số biến được chỉ định trong danh sách tên.\n",
        "\n",
        "Tại đây khởi tạo một bảng IV với tên biến trong cột biến và một cột giữ chỗ 'IV'. Sau đó, nó lặp qua danh sách tên và loại bỏ các hàng tương ứng với các biến được chỉ định từ bảng IV."
      ]
    },
    {
      "cell_type": "code",
      "execution_count": null,
      "id": "55603d78",
      "metadata": {
        "execution": {
          "iopub.execute_input": "2023-11-25T15:24:56.880588Z",
          "iopub.status.busy": "2023-11-25T15:24:56.879547Z",
          "iopub.status.idle": "2023-11-25T15:24:56.891893Z",
          "shell.execute_reply": "2023-11-25T15:24:56.890793Z"
        },
        "papermill": {
          "duration": 0.043243,
          "end_time": "2023-11-25T15:24:56.894560",
          "exception": false,
          "start_time": "2023-11-25T15:24:56.851317",
          "status": "completed"
        },
        "tags": [],
        "id": "55603d78"
      },
      "outputs": [],
      "source": [
        "ivtable=pd.DataFrame(new_data.columns,columns=['variable'])\n",
        "ivtable['IV']=None\n",
        "namelist = ['FLAG_MOBIL','begin_month','dep_value','target','ID']\n",
        "\n",
        "for i in namelist:\n",
        "    ivtable.drop(ivtable[ivtable['variable'] == i].index, inplace=True)\n",
        "ivtable\n"
      ]
    },
    {
      "cell_type": "markdown",
      "source": [
        "# 1.2 Tạo một số hàm hỗ trợ\n"
      ],
      "metadata": {
        "id": "E7s_ae9fEs9u"
      },
      "id": "E7s_ae9fEs9u"
    },
    {
      "cell_type": "markdown",
      "id": "d7e8f871",
      "metadata": {
        "papermill": {
          "duration": 0.026893,
          "end_time": "2023-11-25T15:24:57.027078",
          "exception": false,
          "start_time": "2023-11-25T15:24:57.000185",
          "status": "completed"
        },
        "tags": [],
        "id": "d7e8f871"
      },
      "source": [
        "Định nghĩa một hàm calc_iv để tính Giá trị(IV) cho một đặc trưng cụ\n",
        "\n",
        "*   List item\n",
        "*   List item\n",
        "\n",
        "thể trong DataFrame. Hàm này tính toán các thước đo khác nhau liên quan đến phân phối của đặc trưng đối với biến mục tiêu."
      ]
    },
    {
      "cell_type": "code",
      "execution_count": null,
      "id": "68fd3c04",
      "metadata": {
        "execution": {
          "iopub.execute_input": "2023-11-25T15:24:57.087263Z",
          "iopub.status.busy": "2023-11-25T15:24:57.086600Z",
          "iopub.status.idle": "2023-11-25T15:24:57.102283Z",
          "shell.execute_reply": "2023-11-25T15:24:57.100943Z"
        },
        "papermill": {
          "duration": 0.048959,
          "end_time": "2023-11-25T15:24:57.105210",
          "exception": false,
          "start_time": "2023-11-25T15:24:57.056251",
          "status": "completed"
        },
        "tags": [],
        "id": "68fd3c04"
      },
      "outputs": [],
      "source": [
        "def calc_iv(df, feature, target, pr=False):\n",
        "    lst = []\n",
        "    df[feature] = df[feature].fillna(\"NULL\")\n",
        "\n",
        "    for i in range(df[feature].nunique()):\n",
        "        val = list(df[feature].unique())[i]\n",
        "        lst.append([feature,                                                        # Variable\n",
        "                    val,                                                            # Value\n",
        "                    df[df[feature] == val].count()[feature],                        # All\n",
        "                    df[(df[feature] == val) & (df[target] == 0)].count()[feature],  # Good (think: Fraud == 0)\n",
        "                    df[(df[feature] == val) & (df[target] == 1)].count()[feature]]) # Bad (think: Fraud == 1)\n",
        "\n",
        "    data = pd.DataFrame(lst, columns=['Variable', 'Value', 'All', 'Good', 'Bad'])\n",
        "    data['Share'] = data['All'] / data['All'].sum()\n",
        "    data['Bad Rate'] = data['Bad'] / data['All']\n",
        "    data['Distribution Good'] = (data['All'] - data['Bad']) / (data['All'].sum() - data['Bad'].sum())\n",
        "    data['Distribution Bad'] = data['Bad'] / data['Bad'].sum()\n",
        "    data['WoE'] = np.log(data['Distribution Good'] / data['Distribution Bad'])\n",
        "\n",
        "    data = data.replace({'WoE': {np.inf: 0, -np.inf: 0}})\n",
        "\n",
        "    data['IV'] = data['WoE'] * (data['Distribution Good'] - data['Distribution Bad'])\n",
        "\n",
        "    data = data.sort_values(by=['Variable', 'Value'], ascending=[True, True])\n",
        "    data.index = range(len(data.index))\n",
        "\n",
        "    if pr:\n",
        "        print(data)\n",
        "        print('IV = ', data['IV'].sum())\n",
        "\n",
        "    iv = data['IV'].sum()\n",
        "    print('This variable\\'s IV is:',iv)\n",
        "    print(df[feature].value_counts())\n",
        "    return iv, data"
      ]
    },
    {
      "cell_type": "markdown",
      "id": "b7a43ec1",
      "metadata": {
        "papermill": {
          "duration": 0.027205,
          "end_time": "2023-11-25T15:24:57.160361",
          "exception": false,
          "start_time": "2023-11-25T15:24:57.133156",
          "status": "completed"
        },
        "tags": [],
        "id": "b7a43ec1"
      },
      "source": [
        "Định nghĩa một hàm convert_dummy để chuyển đổi một đặc trưng phân loại thành biến giả bằng cách sử dụng mã hóa one-hot."
      ]
    },
    {
      "cell_type": "code",
      "execution_count": null,
      "id": "af43f3b8",
      "metadata": {
        "execution": {
          "iopub.execute_input": "2023-11-25T15:24:57.216807Z",
          "iopub.status.busy": "2023-11-25T15:24:57.216330Z",
          "iopub.status.idle": "2023-11-25T15:24:57.223940Z",
          "shell.execute_reply": "2023-11-25T15:24:57.222827Z"
        },
        "papermill": {
          "duration": 0.038591,
          "end_time": "2023-11-25T15:24:57.226274",
          "exception": false,
          "start_time": "2023-11-25T15:24:57.187683",
          "status": "completed"
        },
        "tags": [],
        "id": "af43f3b8"
      },
      "outputs": [],
      "source": [
        "def convert_dummy(df, feature,rank=0):\n",
        "    pos = pd.get_dummies(df[feature], prefix=feature)\n",
        "    mode = df[feature].value_counts().index[rank]\n",
        "    biggest = feature + '_' + str(mode)\n",
        "    pos.drop([biggest],axis=1,inplace=True)\n",
        "    df.drop([feature],axis=1,inplace=True)\n",
        "    df=df.join(pos)\n",
        "    return df"
      ]
    },
    {
      "cell_type": "markdown",
      "id": "6b7b2ef1",
      "metadata": {
        "papermill": {
          "duration": 0.028265,
          "end_time": "2023-11-25T15:24:57.283372",
          "exception": false,
          "start_time": "2023-11-25T15:24:57.255107",
          "status": "completed"
        },
        "tags": [],
        "id": "6b7b2ef1"
      },
      "source": [
        "Định nghĩa một hàm get_category để phân loại một cột số trong DataFrame thành các khoảng rời rạc. Hàm này sử dụng enther pd.qcut (cắt theo tỷ lệ) hoặc pd.cut (cắt theo chiều dài bằng nhau) dựa trên giá trị của tham số qcut"
      ]
    },
    {
      "cell_type": "code",
      "execution_count": null,
      "id": "e921db44",
      "metadata": {
        "execution": {
          "iopub.execute_input": "2023-11-25T15:24:57.340323Z",
          "iopub.status.busy": "2023-11-25T15:24:57.339286Z",
          "iopub.status.idle": "2023-11-25T15:24:57.346613Z",
          "shell.execute_reply": "2023-11-25T15:24:57.345774Z"
        },
        "papermill": {
          "duration": 0.03832,
          "end_time": "2023-11-25T15:24:57.348937",
          "exception": false,
          "start_time": "2023-11-25T15:24:57.310617",
          "status": "completed"
        },
        "tags": [],
        "id": "e921db44"
      },
      "outputs": [],
      "source": [
        "def get_category(df, col, binsnum, labels, qcut = False):\n",
        "    if qcut:\n",
        "        localdf = pd.qcut(df[col], q = binsnum, labels = labels) # quantile cut\n",
        "    else:\n",
        "        localdf = pd.cut(df[col], bins = binsnum, labels = labels) # equal-length cut\n",
        "\n",
        "    localdf = pd.DataFrame(localdf)\n",
        "    name = 'gp' + '_' + col\n",
        "    localdf[name] = localdf[col]\n",
        "    df = df.join(localdf[name])\n",
        "    df[name] = df[name].astype(object)\n",
        "    return df"
      ]
    },
    {
      "cell_type": "markdown",
      "id": "995e4de5",
      "metadata": {
        "papermill": {
          "duration": 0.027473,
          "end_time": "2023-11-25T15:24:57.404711",
          "exception": false,
          "start_time": "2023-11-25T15:24:57.377238",
          "status": "completed"
        },
        "tags": [],
        "id": "995e4de5"
      },
      "source": [
        "\n",
        "Định nghĩa một hàm có tên là plot_confusion_matrix để trực quan hóa ma trận. Hàm này sử dụng Matplotlib để tạo một biểu đồ heatmap biểu diễn ma trận."
      ]
    },
    {
      "cell_type": "code",
      "execution_count": null,
      "id": "9f8d52e1",
      "metadata": {
        "execution": {
          "iopub.execute_input": "2023-11-25T15:24:57.461774Z",
          "iopub.status.busy": "2023-11-25T15:24:57.460992Z",
          "iopub.status.idle": "2023-11-25T15:24:57.470777Z",
          "shell.execute_reply": "2023-11-25T15:24:57.469643Z"
        },
        "papermill": {
          "duration": 0.041657,
          "end_time": "2023-11-25T15:24:57.473614",
          "exception": false,
          "start_time": "2023-11-25T15:24:57.431957",
          "status": "completed"
        },
        "tags": [],
        "id": "9f8d52e1"
      },
      "outputs": [],
      "source": [
        "def plot_confusion_matrix(cm, classes,\n",
        "                          normalize=False,\n",
        "                          title='Confusion matrix',\n",
        "                          cmap=plt.cm.Blues):\n",
        "    if normalize:\n",
        "        cm = cm.astype('float') / cm.sum(axis=1)[:, np.newaxis]\n",
        "\n",
        "    print(cm)\n",
        "\n",
        "    plt.imshow(cm, interpolation='nearest', cmap=cmap)\n",
        "    plt.title(title)\n",
        "    plt.colorbar()\n",
        "    tick_marks = np.arange(len(classes))\n",
        "    plt.xticks(tick_marks, classes)\n",
        "    plt.yticks(tick_marks, classes)\n",
        "\n",
        "    fmt = '.2f' if normalize else 'd'\n",
        "    thresh = cm.max() / 2.\n",
        "    for i, j in itertools.product(range(cm.shape[0]), range(cm.shape[1])):\n",
        "        plt.text(j, i, format(cm[i, j], fmt),\n",
        "                 horizontalalignment=\"center\",\n",
        "                 color=\"white\" if cm[i, j] > thresh else \"black\")\n",
        "\n",
        "    plt.tight_layout()\n",
        "    plt.ylabel('True label')\n",
        "    plt.xlabel('Predicted label')"
      ]
    },
    {
      "cell_type": "markdown",
      "source": [
        "# 1.3 Phân tích dữ liệu, tiền xử lý dữ liệu"
      ],
      "metadata": {
        "id": "DrHEYd-8FU_g"
      },
      "id": "DrHEYd-8FU_g"
    },
    {
      "cell_type": "markdown",
      "id": "d79c64df",
      "metadata": {
        "papermill": {
          "duration": 0.026843,
          "end_time": "2023-11-25T15:24:57.528207",
          "exception": false,
          "start_time": "2023-11-25T15:24:57.501364",
          "status": "completed"
        },
        "tags": [],
        "id": "d79c64df"
      },
      "source": [
        "Chuyển đổi cột 'Gender' trong DataFrame \"new_data\" từ giá trị phân loại ('F' và 'M') thành giá trị số học (0 và 1), sau đó tính Giá trị(IV) cho biến đã được biến đổi này."
      ]
    },
    {
      "cell_type": "code",
      "execution_count": null,
      "id": "dc205044",
      "metadata": {
        "execution": {
          "iopub.execute_input": "2023-11-25T15:24:57.585211Z",
          "iopub.status.busy": "2023-11-25T15:24:57.584785Z",
          "iopub.status.idle": "2023-11-25T15:24:57.744355Z",
          "shell.execute_reply": "2023-11-25T15:24:57.742797Z"
        },
        "papermill": {
          "duration": 0.191539,
          "end_time": "2023-11-25T15:24:57.747339",
          "exception": false,
          "start_time": "2023-11-25T15:24:57.555800",
          "status": "completed"
        },
        "tags": [],
        "id": "dc205044"
      },
      "outputs": [],
      "source": [
        "new_data['Gender'] = new_data['Gender'].replace(['F','M'],[0,1])\n",
        "print(new_data['Gender'].value_counts())\n",
        "iv, data = calc_iv(new_data,'Gender','target')\n",
        "ivtable.loc[ivtable['variable']=='Gender','IV']=iv\n",
        "data.head()"
      ]
    },
    {
      "cell_type": "markdown",
      "id": "fae87631",
      "metadata": {
        "papermill": {
          "duration": 0.02923,
          "end_time": "2023-11-25T15:24:57.806960",
          "exception": false,
          "start_time": "2023-11-25T15:24:57.777730",
          "status": "completed"
        },
        "tags": [],
        "id": "fae87631"
      },
      "source": [
        "Thay thế giá trị 'N' và 'Y' trong cột 'Car' bằng 0 và 1 tương ứng."
      ]
    },
    {
      "cell_type": "code",
      "execution_count": null,
      "id": "63a3b059",
      "metadata": {
        "execution": {
          "iopub.execute_input": "2023-11-25T15:24:57.864875Z",
          "iopub.status.busy": "2023-11-25T15:24:57.864462Z",
          "iopub.status.idle": "2023-11-25T15:24:58.007135Z",
          "shell.execute_reply": "2023-11-25T15:24:58.005856Z"
        },
        "papermill": {
          "duration": 0.174802,
          "end_time": "2023-11-25T15:24:58.009998",
          "exception": false,
          "start_time": "2023-11-25T15:24:57.835196",
          "status": "completed"
        },
        "tags": [],
        "id": "63a3b059"
      },
      "outputs": [],
      "source": [
        "new_data['Car'] = new_data['Car'].replace(['N','Y'],[0,1])\n",
        "print(new_data['Car'].value_counts())\n",
        "iv, data=calc_iv(new_data,'Car','target')\n",
        "ivtable.loc[ivtable['variable']=='Car','IV']=iv\n",
        "data.head()"
      ]
    },
    {
      "cell_type": "markdown",
      "id": "670954ec",
      "metadata": {
        "papermill": {
          "duration": 0.028944,
          "end_time": "2023-11-25T15:24:58.067938",
          "exception": false,
          "start_time": "2023-11-25T15:24:58.038994",
          "status": "completed"
        },
        "tags": [],
        "id": "670954ec"
      },
      "source": [
        "Thay thế 'N' bằng 0 và 'Y' bằng 1 trong cột 'Reality', in số lượng giá trị, tính IV bằng cách sử dụng hàm calc_iv, cập nhật IV trong DataFrame \"ivtable\"."
      ]
    },
    {
      "cell_type": "code",
      "execution_count": null,
      "id": "6de6d069",
      "metadata": {
        "execution": {
          "iopub.execute_input": "2023-11-25T15:24:58.126855Z",
          "iopub.status.busy": "2023-11-25T15:24:58.126466Z",
          "iopub.status.idle": "2023-11-25T15:24:58.257948Z",
          "shell.execute_reply": "2023-11-25T15:24:58.256627Z"
        },
        "papermill": {
          "duration": 0.163181,
          "end_time": "2023-11-25T15:24:58.260192",
          "exception": false,
          "start_time": "2023-11-25T15:24:58.097011",
          "status": "completed"
        },
        "tags": [],
        "id": "6de6d069"
      },
      "outputs": [],
      "source": [
        "new_data['Reality'] = new_data['Reality'].replace(['N','Y'],[0,1])\n",
        "print(new_data['Reality'].value_counts())\n",
        "iv, data=calc_iv(new_data,'Reality','target')\n",
        "ivtable.loc[ivtable['variable']=='Reality','IV']=iv\n",
        "data.head()"
      ]
    },
    {
      "cell_type": "markdown",
      "id": "27af289c",
      "metadata": {
        "papermill": {
          "duration": 0.028025,
          "end_time": "2023-11-25T15:24:58.316959",
          "exception": false,
          "start_time": "2023-11-25T15:24:58.288934",
          "status": "completed"
        },
        "tags": [],
        "id": "27af289c"
      },
      "source": [
        "Chuyển đổi cột 'phone' sang kiểu chuỗi, sau đó in giá trị chuẩn hóa, loại bỏ các hàng mà 'phone' là 'nan', và cuối cùng tính toán Giá trị(IV) bằng cách sử dụng hàm calc_iv."
      ]
    },
    {
      "cell_type": "code",
      "execution_count": null,
      "id": "20ed3542",
      "metadata": {
        "execution": {
          "iopub.execute_input": "2023-11-25T15:24:58.375784Z",
          "iopub.status.busy": "2023-11-25T15:24:58.375341Z",
          "iopub.status.idle": "2023-11-25T15:24:58.573701Z",
          "shell.execute_reply": "2023-11-25T15:24:58.572484Z"
        },
        "papermill": {
          "duration": 0.230974,
          "end_time": "2023-11-25T15:24:58.576081",
          "exception": false,
          "start_time": "2023-11-25T15:24:58.345107",
          "status": "completed"
        },
        "tags": [],
        "id": "20ed3542"
      },
      "outputs": [],
      "source": [
        "new_data['phone']=new_data['phone'].astype(str)\n",
        "print(new_data['phone'].value_counts(normalize=True,sort=False))\n",
        "new_data.drop(new_data[new_data['phone'] == 'nan' ].index, inplace=True)\n",
        "iv, data=calc_iv(new_data,'phone','target')\n",
        "ivtable.loc[ivtable['variable']=='phone','IV']=iv\n",
        "data.head()"
      ]
    },
    {
      "cell_type": "markdown",
      "id": "603881d4",
      "metadata": {
        "papermill": {
          "duration": 0.028376,
          "end_time": "2023-11-25T15:24:58.633816",
          "exception": false,
          "start_time": "2023-11-25T15:24:58.605440",
          "status": "completed"
        },
        "tags": [],
        "id": "603881d4"
      },
      "source": [
        "In giá trị chuẩn hóa, sau đó chuyển đổi cột 'email' sang kiểu chuỗi, và cuối cùng tính Giá trị (IV) bằng cách sử dụng hàm calc_iv."
      ]
    },
    {
      "cell_type": "code",
      "execution_count": null,
      "id": "944b4412",
      "metadata": {
        "execution": {
          "iopub.execute_input": "2023-11-25T15:24:58.693895Z",
          "iopub.status.busy": "2023-11-25T15:24:58.693200Z",
          "iopub.status.idle": "2023-11-25T15:24:58.880044Z",
          "shell.execute_reply": "2023-11-25T15:24:58.878724Z"
        },
        "papermill": {
          "duration": 0.219816,
          "end_time": "2023-11-25T15:24:58.882883",
          "exception": false,
          "start_time": "2023-11-25T15:24:58.663067",
          "status": "completed"
        },
        "tags": [],
        "id": "944b4412"
      },
      "outputs": [],
      "source": [
        "print(new_data['email'].value_counts(normalize=True,sort=False))\n",
        "new_data['email']=new_data['email'].astype(str)\n",
        "iv, data=calc_iv(new_data,'email','target')\n",
        "ivtable.loc[ivtable['variable']=='email','IV']=iv\n",
        "data.head()"
      ]
    },
    {
      "cell_type": "markdown",
      "id": "3069c12a",
      "metadata": {
        "papermill": {
          "duration": 0.028721,
          "end_time": "2023-11-25T15:24:58.940513",
          "exception": false,
          "start_time": "2023-11-25T15:24:58.911792",
          "status": "completed"
        },
        "tags": [],
        "id": "3069c12a"
      },
      "source": [
        "Xử lý cột 'wkphone' theo cách tương tự như mã nguồn trước. Đầu tiên, chuyển đổi 'wkphone' sang kiểu chuỗi, tính toán Giá trị(IV) bằng cách sử dụng hàm calc_iv, loại bỏ các hàng mà 'wkphone' là 'nan', và sau đó cập nhật IV trong DataFrame \"ivtable\"."
      ]
    },
    {
      "cell_type": "code",
      "execution_count": null,
      "id": "fce51bc3",
      "metadata": {
        "execution": {
          "iopub.execute_input": "2023-11-25T15:24:59.000366Z",
          "iopub.status.busy": "2023-11-25T15:24:58.999984Z",
          "iopub.status.idle": "2023-11-25T15:24:59.206977Z",
          "shell.execute_reply": "2023-11-25T15:24:59.205717Z"
        },
        "papermill": {
          "duration": 0.240623,
          "end_time": "2023-11-25T15:24:59.209995",
          "exception": false,
          "start_time": "2023-11-25T15:24:58.969372",
          "status": "completed"
        },
        "tags": [],
        "id": "fce51bc3"
      },
      "outputs": [],
      "source": [
        "new_data['wkphone']=new_data['wkphone'].astype(str)\n",
        "iv, data = calc_iv(new_data,'wkphone','target')\n",
        "new_data.drop(new_data[new_data['wkphone'] == 'nan' ].index, inplace=True)\n",
        "ivtable.loc[ivtable['variable']=='wkphone','IV']=iv\n",
        "data.head()"
      ]
    },
    {
      "cell_type": "markdown",
      "id": "4cdaf9cb",
      "metadata": {
        "papermill": {
          "duration": 0.029761,
          "end_time": "2023-11-25T15:24:59.269235",
          "exception": false,
          "start_time": "2023-11-25T15:24:59.239474",
          "status": "completed"
        },
        "tags": [],
        "id": "4cdaf9cb"
      },
      "source": [
        "Phân loại cột 'ChldNo' trong DataFrame \"new_data\" của bạn. Nếu giá trị trong cột 'ChldNo' lớn hơn hoặc bằng 2, bạn sẽ thay thế nó bằng '2More'."
      ]
    },
    {
      "cell_type": "code",
      "execution_count": null,
      "id": "e66ad26b",
      "metadata": {
        "execution": {
          "iopub.execute_input": "2023-11-25T15:24:59.330663Z",
          "iopub.status.busy": "2023-11-25T15:24:59.330221Z",
          "iopub.status.idle": "2023-11-25T15:24:59.344083Z",
          "shell.execute_reply": "2023-11-25T15:24:59.342529Z"
        },
        "papermill": {
          "duration": 0.047542,
          "end_time": "2023-11-25T15:24:59.346780",
          "exception": false,
          "start_time": "2023-11-25T15:24:59.299238",
          "status": "completed"
        },
        "tags": [],
        "id": "e66ad26b"
      },
      "outputs": [],
      "source": [
        "new_data.loc[new_data['ChldNo'] >= 2,'ChldNo']='2More'\n",
        "print(new_data['ChldNo'].value_counts(sort=False))"
      ]
    },
    {
      "cell_type": "markdown",
      "id": "8b9069c1",
      "metadata": {
        "papermill": {
          "duration": 0.029953,
          "end_time": "2023-11-25T15:24:59.407142",
          "exception": false,
          "start_time": "2023-11-25T15:24:59.377189",
          "status": "completed"
        },
        "tags": [],
        "id": "8b9069c1"
      },
      "source": [
        "Tính Giá trị (IV) cho cột 'ChldNo' trong DataFrame \"new_data\" sau khi phân loại nó thành các nhóm khác nhau."
      ]
    },
    {
      "cell_type": "code",
      "execution_count": null,
      "id": "31826475",
      "metadata": {
        "execution": {
          "iopub.execute_input": "2023-11-25T15:24:59.468762Z",
          "iopub.status.busy": "2023-11-25T15:24:59.467766Z",
          "iopub.status.idle": "2023-11-25T15:24:59.676417Z",
          "shell.execute_reply": "2023-11-25T15:24:59.675443Z"
        },
        "papermill": {
          "duration": 0.241819,
          "end_time": "2023-11-25T15:24:59.678562",
          "exception": false,
          "start_time": "2023-11-25T15:24:59.436743",
          "status": "completed"
        },
        "tags": [],
        "id": "31826475"
      },
      "outputs": [],
      "source": [
        "iv, data=calc_iv(new_data,'ChldNo','target')\n",
        "ivtable.loc[ivtable['variable']=='ChldNo','IV']=iv\n",
        "data.head()"
      ]
    },
    {
      "cell_type": "code",
      "execution_count": null,
      "id": "1b13f77a",
      "metadata": {
        "execution": {
          "iopub.execute_input": "2023-11-25T15:24:59.742294Z",
          "iopub.status.busy": "2023-11-25T15:24:59.741515Z",
          "iopub.status.idle": "2023-11-25T15:24:59.768585Z",
          "shell.execute_reply": "2023-11-25T15:24:59.767565Z"
        },
        "papermill": {
          "duration": 0.062591,
          "end_time": "2023-11-25T15:24:59.771216",
          "exception": false,
          "start_time": "2023-11-25T15:24:59.708625",
          "status": "completed"
        },
        "tags": [],
        "id": "1b13f77a"
      },
      "outputs": [],
      "source": [
        "new_data = convert_dummy(new_data,'ChldNo')"
      ]
    },
    {
      "cell_type": "markdown",
      "id": "ee3a0e82",
      "metadata": {
        "papermill": {
          "duration": 0.029814,
          "end_time": "2023-11-25T15:24:59.832334",
          "exception": false,
          "start_time": "2023-11-25T15:24:59.802520",
          "status": "completed"
        },
        "tags": [],
        "id": "ee3a0e82"
      },
      "source": [
        "Thực hiện một số xử lý tiền xử lý trên cột 'inc' (thu nhập) trong DataFrame \"new_data\". Cụ thể, chuyển đổi cột 'inc' thành kiểu đối tượng, và chia giá trị cho 10,000"
      ]
    },
    {
      "cell_type": "code",
      "execution_count": null,
      "id": "1491b573",
      "metadata": {
        "execution": {
          "iopub.execute_input": "2023-11-25T15:24:59.895079Z",
          "iopub.status.busy": "2023-11-25T15:24:59.894339Z",
          "iopub.status.idle": "2023-11-25T15:25:00.562874Z",
          "shell.execute_reply": "2023-11-25T15:25:00.560790Z"
        },
        "papermill": {
          "duration": 0.705123,
          "end_time": "2023-11-25T15:25:00.567462",
          "exception": false,
          "start_time": "2023-11-25T15:24:59.862339",
          "status": "completed"
        },
        "tags": [],
        "id": "1491b573"
      },
      "outputs": [],
      "source": [
        "new_data['inc']=new_data['inc'].astype(object)\n",
        "new_data['inc'] = new_data['inc']/10000\n",
        "print(new_data['inc'].value_counts(bins=10,sort=False))\n",
        "new_data['inc'].plot(kind='hist',bins=50,density=True)"
      ]
    },
    {
      "cell_type": "markdown",
      "id": "e7899410",
      "metadata": {
        "papermill": {
          "duration": 0.031411,
          "end_time": "2023-11-25T15:25:00.639601",
          "exception": false,
          "start_time": "2023-11-25T15:25:00.608190",
          "status": "completed"
        },
        "tags": [],
        "id": "e7899410"
      },
      "source": [
        "Tính toán tuổi từ cột 'DAYS_BIRTH' trong DataFrame \"new_data\", sau đó phân tích phân phối tuổi bằng cách sử dụng hàm đếm giá trị (value counts) và một biểu đồ histogram."
      ]
    },
    {
      "cell_type": "code",
      "execution_count": null,
      "id": "bf7d2efb",
      "metadata": {
        "execution": {
          "iopub.execute_input": "2023-11-25T15:25:00.706668Z",
          "iopub.status.busy": "2023-11-25T15:25:00.705870Z",
          "iopub.status.idle": "2023-11-25T15:25:01.145022Z",
          "shell.execute_reply": "2023-11-25T15:25:01.143501Z"
        },
        "papermill": {
          "duration": 0.47725,
          "end_time": "2023-11-25T15:25:01.149875",
          "exception": false,
          "start_time": "2023-11-25T15:25:00.672625",
          "status": "completed"
        },
        "tags": [],
        "id": "bf7d2efb"
      },
      "outputs": [],
      "source": [
        "new_data['Age']=-(new_data['DAYS_BIRTH'])//365\n",
        "print(new_data['Age'].value_counts(bins=10,normalize=True,sort=False))\n",
        "new_data['Age'].plot(kind='hist',bins=20,density=True)"
      ]
    },
    {
      "cell_type": "markdown",
      "id": "f91328af",
      "metadata": {
        "papermill": {
          "duration": 0.033088,
          "end_time": "2023-11-25T15:25:01.238893",
          "exception": false,
          "start_time": "2023-11-25T15:25:01.205805",
          "status": "completed"
        },
        "tags": [],
        "id": "f91328af"
      },
      "source": [
        "Phân loại cột 'Age' thành năm nhóm bằng cách sử dụng hàm get_category, sau đó tính Giá trị (IV) cho biến nhóm mới ('gp_Age')."
      ]
    },
    {
      "cell_type": "code",
      "execution_count": null,
      "id": "07fea2a4",
      "metadata": {
        "execution": {
          "iopub.execute_input": "2023-11-25T15:25:01.306989Z",
          "iopub.status.busy": "2023-11-25T15:25:01.306563Z",
          "iopub.status.idle": "2023-11-25T15:25:01.616577Z",
          "shell.execute_reply": "2023-11-25T15:25:01.615316Z"
        },
        "papermill": {
          "duration": 0.347257,
          "end_time": "2023-11-25T15:25:01.619430",
          "exception": false,
          "start_time": "2023-11-25T15:25:01.272173",
          "status": "completed"
        },
        "tags": [],
        "id": "07fea2a4"
      },
      "outputs": [],
      "source": [
        "new_data = get_category(new_data,'Age',5, [\"lowest\",\"low\",\"medium\",\"high\",\"highest\"])\n",
        "iv, data = calc_iv(new_data,'gp_Age','target')\n",
        "ivtable.loc[ivtable['variable']=='DAYS_BIRTH','IV'] = iv\n",
        "data.head()"
      ]
    },
    {
      "cell_type": "code",
      "execution_count": null,
      "id": "aa3cb8bd",
      "metadata": {
        "execution": {
          "iopub.execute_input": "2023-11-25T15:25:01.692072Z",
          "iopub.status.busy": "2023-11-25T15:25:01.691311Z",
          "iopub.status.idle": "2023-11-25T15:25:01.716476Z",
          "shell.execute_reply": "2023-11-25T15:25:01.714894Z"
        },
        "papermill": {
          "duration": 0.065159,
          "end_time": "2023-11-25T15:25:01.719272",
          "exception": false,
          "start_time": "2023-11-25T15:25:01.654113",
          "status": "completed"
        },
        "tags": [],
        "id": "aa3cb8bd"
      },
      "outputs": [],
      "source": [
        "new_data = convert_dummy(new_data,'gp_Age')"
      ]
    },
    {
      "cell_type": "markdown",
      "id": "c343086b",
      "metadata": {
        "papermill": {
          "duration": 0.033975,
          "end_time": "2023-11-25T15:25:01.787195",
          "exception": false,
          "start_time": "2023-11-25T15:25:01.753220",
          "status": "completed"
        },
        "tags": [],
        "id": "c343086b"
      },
      "source": [
        "Tính số năm làm việc ('worktm') dựa trên cột 'DAYS_EMPLOYED' trong DataFrame \"new_data\". Sau khi tính toán thời gian làm việc, xử lý các giá trị âm (có thể chỉ ra dữ liệu thiếu hoặc dữ liệu ngoại lệ) bằng cách thay thế chúng bằng NaN, và sau đó điền giá trị NaN bằng giá trị trung bình của cột 'worktm'."
      ]
    },
    {
      "cell_type": "code",
      "execution_count": null,
      "id": "1c071dd0",
      "metadata": {
        "execution": {
          "iopub.execute_input": "2023-11-25T15:25:01.857023Z",
          "iopub.status.busy": "2023-11-25T15:25:01.856627Z",
          "iopub.status.idle": "2023-11-25T15:25:02.317581Z",
          "shell.execute_reply": "2023-11-25T15:25:02.315940Z"
        },
        "papermill": {
          "duration": 0.501909,
          "end_time": "2023-11-25T15:25:02.323347",
          "exception": false,
          "start_time": "2023-11-25T15:25:01.821438",
          "status": "completed"
        },
        "tags": [],
        "id": "1c071dd0"
      },
      "outputs": [],
      "source": [
        "new_data['worktm']=-(new_data['DAYS_EMPLOYED'])//365\n",
        "new_data[new_data['worktm']<0] = np.nan # replace by na\n",
        "new_data['DAYS_EMPLOYED']\n",
        "new_data['worktm'].fillna(new_data['worktm'].mean(),inplace=True) #replace na by mean\n",
        "new_data['worktm'].plot(kind='hist',bins=20,density=True)"
      ]
    },
    {
      "cell_type": "markdown",
      "id": "a2f0c488",
      "metadata": {
        "papermill": {
          "duration": 0.036446,
          "end_time": "2023-11-25T15:25:02.414842",
          "exception": false,
          "start_time": "2023-11-25T15:25:02.378396",
          "status": "completed"
        },
        "tags": [],
        "id": "a2f0c488"
      },
      "source": [
        "Phân loại cột 'worktm' (số năm làm việc) thành năm nhóm bằng cách sử dụng hàm get_category, sau đó tính Giá trị (IV) cho biến nhóm mới ('gp_worktm')."
      ]
    },
    {
      "cell_type": "code",
      "execution_count": null,
      "id": "24f4c319",
      "metadata": {
        "execution": {
          "iopub.execute_input": "2023-11-25T15:25:02.488688Z",
          "iopub.status.busy": "2023-11-25T15:25:02.487930Z",
          "iopub.status.idle": "2023-11-25T15:25:02.812593Z",
          "shell.execute_reply": "2023-11-25T15:25:02.811312Z"
        },
        "papermill": {
          "duration": 0.365281,
          "end_time": "2023-11-25T15:25:02.815176",
          "exception": false,
          "start_time": "2023-11-25T15:25:02.449895",
          "status": "completed"
        },
        "tags": [],
        "id": "24f4c319"
      },
      "outputs": [],
      "source": [
        "new_data = get_category(new_data,'worktm',5, [\"lowest\",\"low\",\"medium\",\"high\",\"highest\"])\n",
        "iv, data=calc_iv(new_data,'gp_worktm','target')\n",
        "ivtable.loc[ivtable['variable']=='DAYS_EMPLOYED','IV']=iv\n",
        "data.head()"
      ]
    },
    {
      "cell_type": "code",
      "source": [
        "new_data = convert_dummy(new_data,'gp_worktm')\n",
        "new_data['famsize'].value_counts(sort=False)"
      ],
      "metadata": {
        "id": "uqdt2lyPqldO"
      },
      "id": "uqdt2lyPqldO",
      "execution_count": null,
      "outputs": []
    },
    {
      "cell_type": "markdown",
      "id": "0432f1ab",
      "metadata": {
        "papermill": {
          "duration": 0.035741,
          "end_time": "2023-11-25T15:25:03.074866",
          "exception": false,
          "start_time": "2023-11-25T15:25:03.039125",
          "status": "completed"
        },
        "tags": [],
        "id": "0432f1ab"
      },
      "source": [
        "Thao tác trên cột 'famsize' trong DataFrame \"new_data\". Sau đó, chuyển đổi nó thành kiểu số nguyên, tạo một cột mới 'famsizegp', phân loại nó, và sau đó tính Giá trị(IV) cho biến đã phân loại."
      ]
    },
    {
      "cell_type": "code",
      "execution_count": null,
      "id": "d5410389",
      "metadata": {
        "execution": {
          "iopub.execute_input": "2023-11-25T15:25:03.147859Z",
          "iopub.status.busy": "2023-11-25T15:25:03.147466Z",
          "iopub.status.idle": "2023-11-25T15:25:03.376355Z",
          "shell.execute_reply": "2023-11-25T15:25:03.375258Z"
        },
        "papermill": {
          "duration": 0.26844,
          "end_time": "2023-11-25T15:25:03.378576",
          "exception": false,
          "start_time": "2023-11-25T15:25:03.110136",
          "status": "completed"
        },
        "tags": [],
        "id": "d5410389"
      },
      "outputs": [],
      "source": [
        "new_data['famsize']=new_data['famsize'].astype(int)\n",
        "new_data['famsizegp']=new_data['famsize']\n",
        "new_data['famsizegp']=new_data['famsizegp'].astype(object)\n",
        "new_data.loc[new_data['famsizegp']>=3,'famsizegp']='3more'\n",
        "iv, data=calc_iv(new_data,'famsizegp','target')\n",
        "ivtable.loc[ivtable['variable']=='famsize','IV']=iv\n",
        "data.head()"
      ]
    },
    {
      "cell_type": "code",
      "execution_count": null,
      "id": "998d03b4",
      "metadata": {
        "execution": {
          "iopub.execute_input": "2023-11-25T15:25:03.453142Z",
          "iopub.status.busy": "2023-11-25T15:25:03.452744Z",
          "iopub.status.idle": "2023-11-25T15:25:03.480888Z",
          "shell.execute_reply": "2023-11-25T15:25:03.479810Z"
        },
        "papermill": {
          "duration": 0.068939,
          "end_time": "2023-11-25T15:25:03.483881",
          "exception": false,
          "start_time": "2023-11-25T15:25:03.414942",
          "status": "completed"
        },
        "tags": [],
        "id": "998d03b4"
      },
      "outputs": [],
      "source": [
        "new_data = convert_dummy(new_data,'famsizegp')"
      ]
    },
    {
      "cell_type": "markdown",
      "id": "5d3ddb64",
      "metadata": {
        "papermill": {
          "duration": 0.035307,
          "end_time": "2023-11-25T15:25:03.554929",
          "exception": false,
          "start_time": "2023-11-25T15:25:03.519622",
          "status": "completed"
        },
        "tags": [],
        "id": "5d3ddb64"
      },
      "source": [
        "\n",
        "Chỉnh sửa giá trị của cột 'inctp' bằng cách kết hợp các hạng mục 'Pensioner' và 'Student' thành 'State servant'. Sau các sửa đổi này, tính Giá trị (IV) cho biến 'inctp'."
      ]
    },
    {
      "cell_type": "code",
      "execution_count": null,
      "id": "8509935d",
      "metadata": {
        "execution": {
          "iopub.execute_input": "2023-11-25T15:25:03.629325Z",
          "iopub.status.busy": "2023-11-25T15:25:03.628937Z",
          "iopub.status.idle": "2023-11-25T15:25:03.875627Z",
          "shell.execute_reply": "2023-11-25T15:25:03.874267Z"
        },
        "papermill": {
          "duration": 0.287704,
          "end_time": "2023-11-25T15:25:03.878293",
          "exception": false,
          "start_time": "2023-11-25T15:25:03.590589",
          "status": "completed"
        },
        "tags": [],
        "id": "8509935d"
      },
      "outputs": [],
      "source": [
        "print(new_data['inctp'].value_counts(sort=False))\n",
        "print(new_data['inctp'].value_counts(normalize=True,sort=False))\n",
        "new_data.loc[new_data['inctp']=='Pensioner','inctp']='State servant'\n",
        "new_data.loc[new_data['inctp']=='Student','inctp']='State servant'\n",
        "iv, data=calc_iv(new_data,'inctp','target')\n",
        "ivtable.loc[ivtable['variable']=='inctp','IV']=iv\n",
        "data.head()"
      ]
    },
    {
      "cell_type": "code",
      "execution_count": null,
      "id": "1ad67156",
      "metadata": {
        "execution": {
          "iopub.execute_input": "2023-11-25T15:25:03.953144Z",
          "iopub.status.busy": "2023-11-25T15:25:03.952728Z",
          "iopub.status.idle": "2023-11-25T15:25:03.978873Z",
          "shell.execute_reply": "2023-11-25T15:25:03.977532Z"
        },
        "papermill": {
          "duration": 0.066826,
          "end_time": "2023-11-25T15:25:03.981872",
          "exception": false,
          "start_time": "2023-11-25T15:25:03.915046",
          "status": "completed"
        },
        "tags": [],
        "id": "1ad67156"
      },
      "outputs": [],
      "source": [
        "new_data = convert_dummy(new_data,'inctp')"
      ]
    },
    {
      "cell_type": "markdown",
      "id": "fa1f43a5",
      "metadata": {
        "papermill": {
          "duration": 0.035744,
          "end_time": "2023-11-25T15:25:04.053911",
          "exception": false,
          "start_time": "2023-11-25T15:25:04.018167",
          "status": "completed"
        },
        "tags": [],
        "id": "fa1f43a5"
      },
      "source": [
        "Phân loại lại cột 'occyp' (loại nghề nghiệp) trong DataFrame \"new_data\" bằng cách nhóm một số nghề nghiệp cụ thể vào các danh mục rộng hơn. Sau quá trình phân loại lại này, tính Giá trị (IV) cho biến 'occyp' đã được sửa đổi"
      ]
    },
    {
      "cell_type": "code",
      "execution_count": null,
      "id": "943cd8fb",
      "metadata": {
        "execution": {
          "iopub.execute_input": "2023-11-25T15:25:04.129269Z",
          "iopub.status.busy": "2023-11-25T15:25:04.128848Z",
          "iopub.status.idle": "2023-11-25T15:25:04.438838Z",
          "shell.execute_reply": "2023-11-25T15:25:04.437492Z"
        },
        "papermill": {
          "duration": 0.350648,
          "end_time": "2023-11-25T15:25:04.441508",
          "exception": false,
          "start_time": "2023-11-25T15:25:04.090860",
          "status": "completed"
        },
        "tags": [],
        "id": "943cd8fb"
      },
      "outputs": [],
      "source": [
        "new_data.loc[(new_data['occyp']=='Cleaning staff') | (new_data['occyp']=='Cooking staff') | (new_data['occyp']=='Drivers') | (new_data['occyp']=='Laborers') | (new_data['occyp']=='Low-skill Laborers') | (new_data['occyp']=='Security staff') | (new_data['occyp']=='Waiters/barmen staff'),'occyp']='Laborwk'\n",
        "new_data.loc[(new_data['occyp']=='Accountants') | (new_data['occyp']=='Core staff') | (new_data['occyp']=='HR staff') | (new_data['occyp']=='Medicine staff') | (new_data['occyp']=='Private service staff') | (new_data['occyp']=='Realty agents') | (new_data['occyp']=='Sales staff') | (new_data['occyp']=='Secretaries'),'occyp']='officewk'\n",
        "new_data.loc[(new_data['occyp']=='Managers') | (new_data['occyp']=='High skill tech staff') | (new_data['occyp']=='IT staff'),'occyp']='hightecwk'\n",
        "print(new_data['occyp'].value_counts())\n",
        "iv, data=calc_iv(new_data,'occyp','target')\n",
        "ivtable.loc[ivtable['variable']=='occyp','IV']=iv\n",
        "data.head()"
      ]
    },
    {
      "cell_type": "code",
      "execution_count": null,
      "id": "1cc3bd64",
      "metadata": {
        "execution": {
          "iopub.execute_input": "2023-11-25T15:25:04.516198Z",
          "iopub.status.busy": "2023-11-25T15:25:04.515761Z",
          "iopub.status.idle": "2023-11-25T15:25:04.541059Z",
          "shell.execute_reply": "2023-11-25T15:25:04.539701Z"
        },
        "papermill": {
          "duration": 0.065939,
          "end_time": "2023-11-25T15:25:04.543892",
          "exception": false,
          "start_time": "2023-11-25T15:25:04.477953",
          "status": "completed"
        },
        "tags": [],
        "id": "1cc3bd64"
      },
      "outputs": [],
      "source": [
        "new_data = convert_dummy(new_data,'occyp')"
      ]
    },
    {
      "cell_type": "markdown",
      "id": "6614d088",
      "metadata": {
        "papermill": {
          "duration": 0.036537,
          "end_time": "2023-11-25T15:25:04.618273",
          "exception": false,
          "start_time": "2023-11-25T15:25:04.581736",
          "status": "completed"
        },
        "tags": [],
        "id": "6614d088"
      },
      "source": [
        "Tính Giá trị (IV) cho cột 'houtp' (loại nhà ở) trong DataFrame \"new_data\"."
      ]
    },
    {
      "cell_type": "code",
      "execution_count": null,
      "id": "bed1538d",
      "metadata": {
        "execution": {
          "iopub.execute_input": "2023-11-25T15:25:04.696113Z",
          "iopub.status.busy": "2023-11-25T15:25:04.695669Z",
          "iopub.status.idle": "2023-11-25T15:25:05.020285Z",
          "shell.execute_reply": "2023-11-25T15:25:05.019155Z"
        },
        "papermill": {
          "duration": 0.367001,
          "end_time": "2023-11-25T15:25:05.023266",
          "exception": false,
          "start_time": "2023-11-25T15:25:04.656265",
          "status": "completed"
        },
        "tags": [],
        "id": "bed1538d"
      },
      "outputs": [],
      "source": [
        "iv, data=calc_iv(new_data,'houtp','target')\n",
        "ivtable.loc[ivtable['variable']=='houtp','IV']=iv\n",
        "data.head()"
      ]
    },
    {
      "cell_type": "code",
      "execution_count": null,
      "id": "a778d348",
      "metadata": {
        "execution": {
          "iopub.execute_input": "2023-11-25T15:25:05.099607Z",
          "iopub.status.busy": "2023-11-25T15:25:05.099119Z",
          "iopub.status.idle": "2023-11-25T15:25:05.126540Z",
          "shell.execute_reply": "2023-11-25T15:25:05.125180Z"
        },
        "papermill": {
          "duration": 0.069319,
          "end_time": "2023-11-25T15:25:05.129358",
          "exception": false,
          "start_time": "2023-11-25T15:25:05.060039",
          "status": "completed"
        },
        "tags": [],
        "id": "a778d348"
      },
      "outputs": [],
      "source": [
        "new_data = convert_dummy(new_data,'houtp')"
      ]
    },
    {
      "cell_type": "markdown",
      "id": "4e3649b9",
      "metadata": {
        "papermill": {
          "duration": 0.037417,
          "end_time": "2023-11-25T15:25:05.204173",
          "exception": false,
          "start_time": "2023-11-25T15:25:05.166756",
          "status": "completed"
        },
        "tags": [],
        "id": "4e3649b9"
      },
      "source": [
        "Chỉnh sửa cột 'edutp' (loại học vấn) trong DataFrame \"new_data\" bằng cách thay thế hạng mục 'Academic degree' bằng 'Higher education'. Sau khi sửa đổi này, tính Giá trị (IV) cho biến 'edutp' đã được sửa đổi."
      ]
    },
    {
      "cell_type": "code",
      "execution_count": null,
      "id": "148ac3d2",
      "metadata": {
        "execution": {
          "iopub.execute_input": "2023-11-25T15:25:05.280155Z",
          "iopub.status.busy": "2023-11-25T15:25:05.279719Z",
          "iopub.status.idle": "2023-11-25T15:25:05.528477Z",
          "shell.execute_reply": "2023-11-25T15:25:05.527206Z"
        },
        "papermill": {
          "duration": 0.289955,
          "end_time": "2023-11-25T15:25:05.531166",
          "exception": false,
          "start_time": "2023-11-25T15:25:05.241211",
          "status": "completed"
        },
        "tags": [],
        "id": "148ac3d2"
      },
      "outputs": [],
      "source": [
        "new_data.loc[new_data['edutp']=='Academic degree','edutp']='Higher education'\n",
        "iv, data=calc_iv(new_data,'edutp','target')\n",
        "ivtable.loc[ivtable['variable']=='edutp','IV']=iv\n",
        "data.head()"
      ]
    },
    {
      "cell_type": "code",
      "execution_count": null,
      "id": "06b5069f",
      "metadata": {
        "execution": {
          "iopub.execute_input": "2023-11-25T15:25:05.606984Z",
          "iopub.status.busy": "2023-11-25T15:25:05.606596Z",
          "iopub.status.idle": "2023-11-25T15:25:05.631335Z",
          "shell.execute_reply": "2023-11-25T15:25:05.630295Z"
        },
        "papermill": {
          "duration": 0.065986,
          "end_time": "2023-11-25T15:25:05.634141",
          "exception": false,
          "start_time": "2023-11-25T15:25:05.568155",
          "status": "completed"
        },
        "tags": [],
        "id": "06b5069f"
      },
      "outputs": [],
      "source": [
        "new_data = convert_dummy(new_data,'edutp')"
      ]
    },
    {
      "cell_type": "code",
      "execution_count": null,
      "id": "4c47ee69",
      "metadata": {
        "execution": {
          "iopub.execute_input": "2023-11-25T15:25:05.714241Z",
          "iopub.status.busy": "2023-11-25T15:25:05.713478Z",
          "iopub.status.idle": "2023-11-25T15:25:05.728011Z",
          "shell.execute_reply": "2023-11-25T15:25:05.726860Z"
        },
        "papermill": {
          "duration": 0.058332,
          "end_time": "2023-11-25T15:25:05.730636",
          "exception": false,
          "start_time": "2023-11-25T15:25:05.672304",
          "status": "completed"
        },
        "tags": [],
        "id": "4c47ee69"
      },
      "outputs": [],
      "source": [
        "new_data['famtp'].value_counts(normalize=True,sort=False)"
      ]
    },
    {
      "cell_type": "code",
      "execution_count": null,
      "id": "895398f1",
      "metadata": {
        "execution": {
          "iopub.execute_input": "2023-11-25T15:25:05.808951Z",
          "iopub.status.busy": "2023-11-25T15:25:05.808037Z",
          "iopub.status.idle": "2023-11-25T15:25:05.822540Z",
          "shell.execute_reply": "2023-11-25T15:25:05.821373Z"
        },
        "papermill": {
          "duration": 0.056408,
          "end_time": "2023-11-25T15:25:05.825272",
          "exception": false,
          "start_time": "2023-11-25T15:25:05.768864",
          "status": "completed"
        },
        "tags": [],
        "id": "895398f1"
      },
      "outputs": [],
      "source": [
        "new_data['famtp'].value_counts(normalize=True,sort=False)"
      ]
    },
    {
      "cell_type": "markdown",
      "id": "ae31c7ff",
      "metadata": {
        "papermill": {
          "duration": 0.038496,
          "end_time": "2023-11-25T15:25:05.901252",
          "exception": false,
          "start_time": "2023-11-25T15:25:05.862756",
          "status": "completed"
        },
        "tags": [],
        "id": "ae31c7ff"
      },
      "source": [
        "Tính Giá trị (IV) cho cột 'famtp' (tình trạng gia đình) trong DataFrame \"new_data\"."
      ]
    },
    {
      "cell_type": "code",
      "execution_count": null,
      "id": "79bafcb1",
      "metadata": {
        "execution": {
          "iopub.execute_input": "2023-11-25T15:25:05.978833Z",
          "iopub.status.busy": "2023-11-25T15:25:05.978435Z",
          "iopub.status.idle": "2023-11-25T15:25:06.260761Z",
          "shell.execute_reply": "2023-11-25T15:25:06.259786Z"
        },
        "papermill": {
          "duration": 0.323398,
          "end_time": "2023-11-25T15:25:06.263010",
          "exception": false,
          "start_time": "2023-11-25T15:25:05.939612",
          "status": "completed"
        },
        "tags": [],
        "id": "79bafcb1"
      },
      "outputs": [],
      "source": [
        "iv, data=calc_iv(new_data,'famtp','target')\n",
        "ivtable.loc[ivtable['variable']=='famtp','IV']=iv\n",
        "data.head()"
      ]
    },
    {
      "cell_type": "code",
      "execution_count": null,
      "id": "03fe3ce5",
      "metadata": {
        "execution": {
          "iopub.execute_input": "2023-11-25T15:25:06.342025Z",
          "iopub.status.busy": "2023-11-25T15:25:06.341650Z",
          "iopub.status.idle": "2023-11-25T15:25:06.365457Z",
          "shell.execute_reply": "2023-11-25T15:25:06.364171Z"
        },
        "papermill": {
          "duration": 0.066301,
          "end_time": "2023-11-25T15:25:06.368252",
          "exception": false,
          "start_time": "2023-11-25T15:25:06.301951",
          "status": "completed"
        },
        "tags": [],
        "id": "03fe3ce5"
      },
      "outputs": [],
      "source": [
        "new_data = convert_dummy(new_data,'famtp')"
      ]
    },
    {
      "cell_type": "markdown",
      "id": "dff97ef7",
      "metadata": {
        "papermill": {
          "duration": 0.038553,
          "end_time": "2023-11-25T15:25:06.445884",
          "exception": false,
          "start_time": "2023-11-25T15:25:06.407331",
          "status": "completed"
        },
        "tags": [],
        "id": "dff97ef7"
      },
      "source": [
        "Sắp xếp DataFrame \"ivtable\" theo Giá trị (IV) giảm dần, sau đó chỉnh sửa tên biến để đọc dễ hiểu hơn."
      ]
    },
    {
      "cell_type": "code",
      "execution_count": null,
      "id": "931c4ced",
      "metadata": {
        "execution": {
          "iopub.execute_input": "2023-11-25T15:25:06.526288Z",
          "iopub.status.busy": "2023-11-25T15:25:06.525840Z",
          "iopub.status.idle": "2023-11-25T15:25:06.541885Z",
          "shell.execute_reply": "2023-11-25T15:25:06.540830Z"
        },
        "papermill": {
          "duration": 0.059873,
          "end_time": "2023-11-25T15:25:06.544204",
          "exception": false,
          "start_time": "2023-11-25T15:25:06.484331",
          "status": "completed"
        },
        "tags": [],
        "id": "931c4ced"
      },
      "outputs": [],
      "source": [
        "ivtable=ivtable.sort_values(by='IV',ascending=False)\n",
        "ivtable.loc[ivtable['variable']=='DAYS_BIRTH','variable']='agegp'\n",
        "ivtable.loc[ivtable['variable']=='DAYS_EMPLOYED','variable']='worktmgp'\n",
        "ivtable.loc[ivtable['variable']=='inc','variable']='incgp'\n",
        "ivtable"
      ]
    },
    {
      "cell_type": "markdown",
      "id": "d5a3330b",
      "metadata": {
        "papermill": {
          "duration": 0.039548,
          "end_time": "2023-11-25T15:25:06.713241",
          "exception": false,
          "start_time": "2023-11-25T15:25:06.673693",
          "status": "completed"
        },
        "tags": [],
        "id": "d5a3330b"
      },
      "source": [
        "Định nghĩa biến mục tiêu Y và ma trận đặc trưng X cho một nhiệm vụ mô hình hóa dự đoán. Ở đây, Y đại diện cho biến mục tiêu ('target'), và X bao gồm một lựa chọn các đặc trưng từ DataFrame \"new_data\" của bạn"
      ]
    },
    {
      "cell_type": "code",
      "execution_count": null,
      "id": "1ed8447e",
      "metadata": {
        "execution": {
          "iopub.execute_input": "2023-11-25T15:25:06.794229Z",
          "iopub.status.busy": "2023-11-25T15:25:06.793151Z",
          "iopub.status.idle": "2023-11-25T15:25:06.802843Z",
          "shell.execute_reply": "2023-11-25T15:25:06.801934Z"
        },
        "papermill": {
          "duration": 0.05241,
          "end_time": "2023-11-25T15:25:06.805123",
          "exception": false,
          "start_time": "2023-11-25T15:25:06.752713",
          "status": "completed"
        },
        "tags": [],
        "id": "1ed8447e"
      },
      "outputs": [],
      "source": [
        "Y = new_data['target']\n",
        "X = new_data[['ID','Gender','Reality','ChldNo_1', 'ChldNo_2More','wkphone',\n",
        "              'gp_Age_high', 'gp_Age_highest', 'gp_Age_low',\n",
        "       'gp_Age_lowest','gp_worktm_high', 'gp_worktm_highest',\n",
        "       'gp_worktm_low', 'gp_worktm_medium','occyp_hightecwk',\n",
        "              'occyp_officewk','famsizegp_1', 'famsizegp_3more',\n",
        "       'houtp_Co-op apartment', 'houtp_Municipal apartment',\n",
        "       'houtp_Office apartment', 'houtp_Rented apartment',\n",
        "       'houtp_With parents','edutp_Higher education',\n",
        "       'edutp_Incomplete higher', 'edutp_Lower secondary','famtp_Civil marriage',\n",
        "       'famtp_Separated','famtp_Single / not married','famtp_Widow']]"
      ]
    },
    {
      "cell_type": "markdown",
      "id": "5e6586ce",
      "metadata": {
        "papermill": {
          "duration": 0.038073,
          "end_time": "2023-11-25T15:25:06.881622",
          "exception": false,
          "start_time": "2023-11-25T15:25:06.843549",
          "status": "completed"
        },
        "tags": [],
        "id": "5e6586ce"
      },
      "source": [
        "Thực hiện tái chọn mẫu sử dụng Phương pháp Tổng hợp Thấp hơn Thiểu số (SMOTE) để cân bằng phân phối lớp trong biến mục tiêu Y của bạn."
      ]
    },
    {
      "cell_type": "code",
      "execution_count": null,
      "id": "781f7094",
      "metadata": {
        "execution": {
          "iopub.execute_input": "2023-11-25T15:25:06.960123Z",
          "iopub.status.busy": "2023-11-25T15:25:06.959718Z",
          "iopub.status.idle": "2023-11-25T15:25:07.243353Z",
          "shell.execute_reply": "2023-11-25T15:25:07.242460Z"
        },
        "papermill": {
          "duration": 0.325959,
          "end_time": "2023-11-25T15:25:07.246006",
          "exception": false,
          "start_time": "2023-11-25T15:25:06.920047",
          "status": "completed"
        },
        "tags": [],
        "id": "781f7094"
      },
      "outputs": [],
      "source": [
        "Y = Y.astype('int')\n",
        "X_balance,Y_balance = SMOTE().fit_resample(X,Y)\n",
        "X_balance = pd.DataFrame(X_balance, columns = X.columns)"
      ]
    },
    {
      "cell_type": "markdown",
      "source": [
        "# 2.1 Giải quyết bài toán bằng các mô hình học máy"
      ],
      "metadata": {
        "id": "vNmh3DWsrzNr"
      },
      "id": "vNmh3DWsrzNr"
    },
    {
      "cell_type": "markdown",
      "id": "4731a0ef",
      "metadata": {
        "papermill": {
          "duration": 0.038248,
          "end_time": "2023-11-25T15:25:07.323302",
          "exception": false,
          "start_time": "2023-11-25T15:25:07.285054",
          "status": "completed"
        },
        "tags": [],
        "id": "4731a0ef"
      },
      "source": [
        "Chia dữ liệu đã được tái chọn mẫu thành các tập huấn luyện và kiểm thử bằng cách sử dụng hàm train_test_split."
      ]
    },
    {
      "cell_type": "code",
      "execution_count": null,
      "id": "f9e0563d",
      "metadata": {
        "execution": {
          "iopub.execute_input": "2023-11-25T15:25:07.404220Z",
          "iopub.status.busy": "2023-11-25T15:25:07.403189Z",
          "iopub.status.idle": "2023-11-25T15:25:07.447417Z",
          "shell.execute_reply": "2023-11-25T15:25:07.446420Z"
        },
        "papermill": {
          "duration": 0.087628,
          "end_time": "2023-11-25T15:25:07.450425",
          "exception": false,
          "start_time": "2023-11-25T15:25:07.362797",
          "status": "completed"
        },
        "tags": [],
        "id": "f9e0563d"
      },
      "outputs": [],
      "source": [
        "X_train, X_test, y_train, y_test = train_test_split(X_balance,Y_balance,\n",
        "                                                    stratify=Y_balance, test_size=0.3,\n",
        "                                                    random_state = 10086)"
      ]
    },
    {
      "cell_type": "code",
      "execution_count": null,
      "id": "d36d2743",
      "metadata": {
        "execution": {
          "iopub.execute_input": "2023-11-25T15:25:07.529648Z",
          "iopub.status.busy": "2023-11-25T15:25:07.529237Z",
          "iopub.status.idle": "2023-11-25T15:25:07.556599Z",
          "shell.execute_reply": "2023-11-25T15:25:07.555349Z"
        },
        "papermill": {
          "duration": 0.070001,
          "end_time": "2023-11-25T15:25:07.559071",
          "exception": false,
          "start_time": "2023-11-25T15:25:07.489070",
          "status": "completed"
        },
        "tags": [],
        "id": "d36d2743"
      },
      "outputs": [],
      "source": [
        "X_train.head()"
      ]
    },
    {
      "cell_type": "markdown",
      "id": "f034eb88",
      "metadata": {
        "papermill": {
          "duration": 0.038711,
          "end_time": "2023-11-25T15:25:07.636873",
          "exception": false,
          "start_time": "2023-11-25T15:25:07.598162",
          "status": "completed"
        },
        "tags": [],
        "id": "f034eb88"
      },
      "source": [
        "Trích xuất cột 'ID' từ tập huấn luyện và testing"
      ]
    },
    {
      "cell_type": "code",
      "execution_count": null,
      "id": "9e5d27db",
      "metadata": {
        "execution": {
          "iopub.execute_input": "2023-11-25T15:25:07.721009Z",
          "iopub.status.busy": "2023-11-25T15:25:07.720325Z",
          "iopub.status.idle": "2023-11-25T15:25:07.724650Z",
          "shell.execute_reply": "2023-11-25T15:25:07.723862Z"
        },
        "papermill": {
          "duration": 0.049517,
          "end_time": "2023-11-25T15:25:07.726797",
          "exception": false,
          "start_time": "2023-11-25T15:25:07.677280",
          "status": "completed"
        },
        "tags": [],
        "id": "9e5d27db"
      },
      "outputs": [],
      "source": [
        "X_train_ID = X_train['ID']\n",
        "X_test_ID = X_test['ID']"
      ]
    },
    {
      "cell_type": "code",
      "execution_count": null,
      "id": "53d38bc3",
      "metadata": {
        "execution": {
          "iopub.execute_input": "2023-11-25T15:25:07.807608Z",
          "iopub.status.busy": "2023-11-25T15:25:07.806930Z",
          "iopub.status.idle": "2023-11-25T15:25:07.811488Z",
          "shell.execute_reply": "2023-11-25T15:25:07.810594Z"
        },
        "papermill": {
          "duration": 0.047562,
          "end_time": "2023-11-25T15:25:07.813687",
          "exception": false,
          "start_time": "2023-11-25T15:25:07.766125",
          "status": "completed"
        },
        "tags": [],
        "id": "53d38bc3"
      },
      "outputs": [],
      "source": [
        "X_test_ID = X_test['ID']\n"
      ]
    },
    {
      "cell_type": "code",
      "execution_count": null,
      "id": "81a426b3",
      "metadata": {
        "execution": {
          "iopub.execute_input": "2023-11-25T15:25:07.894526Z",
          "iopub.status.busy": "2023-11-25T15:25:07.893736Z",
          "iopub.status.idle": "2023-11-25T15:25:07.918629Z",
          "shell.execute_reply": "2023-11-25T15:25:07.917580Z"
        },
        "papermill": {
          "duration": 0.0682,
          "end_time": "2023-11-25T15:25:07.921178",
          "exception": false,
          "start_time": "2023-11-25T15:25:07.852978",
          "status": "completed"
        },
        "tags": [],
        "id": "81a426b3"
      },
      "outputs": [],
      "source": [
        "X_test.head()"
      ]
    },
    {
      "cell_type": "markdown",
      "id": "f9f0c655",
      "metadata": {
        "papermill": {
          "duration": 0.039257,
          "end_time": "2023-11-25T15:25:08.000083",
          "exception": false,
          "start_time": "2023-11-25T15:25:07.960826",
          "status": "completed"
        },
        "tags": [],
        "id": "f9f0c655"
      },
      "source": [
        "training logistic regression model"
      ]
    },
    {
      "cell_type": "code",
      "execution_count": null,
      "id": "c3b86542",
      "metadata": {
        "execution": {
          "iopub.execute_input": "2023-11-25T15:25:08.082106Z",
          "iopub.status.busy": "2023-11-25T15:25:08.081268Z",
          "iopub.status.idle": "2023-11-25T15:25:08.846120Z",
          "shell.execute_reply": "2023-11-25T15:25:08.844512Z"
        },
        "papermill": {
          "duration": 0.810856,
          "end_time": "2023-11-25T15:25:08.850491",
          "exception": false,
          "start_time": "2023-11-25T15:25:08.039635",
          "status": "completed"
        },
        "tags": [],
        "id": "c3b86542"
      },
      "outputs": [],
      "source": [
        "#Logistic Regression\n",
        "model = LogisticRegression(C=0.8,\n",
        "                           random_state=0,\n",
        "                           solver='lbfgs')\n",
        "model.fit(X_train, y_train)\n",
        "y_predict = model.predict(X_test)\n",
        "\n",
        "print('Accuracy Score is {:.5}'.format(accuracy_score(y_test, y_predict)))\n",
        "print(pd.DataFrame(confusion_matrix(y_test,y_predict)))\n",
        "\n",
        "sns.set_style('white')\n",
        "class_names = ['0','1']\n",
        "plot_confusion_matrix(confusion_matrix(y_test,y_predict),\n",
        "                      classes= class_names,\n",
        "                      title='Confusion Matrix: Logistic Regression')"
      ]
    },
    {
      "cell_type": "markdown",
      "id": "9bb9b9a7",
      "metadata": {
        "papermill": {
          "duration": 0.04073,
          "end_time": "2023-11-25T15:25:08.963360",
          "exception": false,
          "start_time": "2023-11-25T15:25:08.922630",
          "status": "completed"
        },
        "tags": [],
        "id": "9bb9b9a7"
      },
      "source": [
        "Kiểm tra độ dài của các nhãn dự đoán (y_predict), nhãn thực tế (y_test), và cột 'ID' trong tập kiểm thử (X_test_ID)."
      ]
    },
    {
      "cell_type": "code",
      "execution_count": null,
      "id": "c55455d4",
      "metadata": {
        "execution": {
          "iopub.execute_input": "2023-11-25T15:25:09.048795Z",
          "iopub.status.busy": "2023-11-25T15:25:09.048388Z",
          "iopub.status.idle": "2023-11-25T15:25:09.054990Z",
          "shell.execute_reply": "2023-11-25T15:25:09.054103Z"
        },
        "papermill": {
          "duration": 0.051524,
          "end_time": "2023-11-25T15:25:09.057030",
          "exception": false,
          "start_time": "2023-11-25T15:25:09.005506",
          "status": "completed"
        },
        "tags": [],
        "id": "c55455d4"
      },
      "outputs": [],
      "source": [
        "len(y_predict),len(y_test),len(X_test_ID)"
      ]
    },
    {
      "cell_type": "markdown",
      "id": "585f0349",
      "metadata": {
        "papermill": {
          "duration": 0.041198,
          "end_time": "2023-11-25T15:25:09.140572",
          "exception": false,
          "start_time": "2023-11-25T15:25:09.099374",
          "status": "completed"
        },
        "tags": [],
        "id": "585f0349"
      },
      "source": [
        "Tạo một DataFrame mới, final_prediction_comparison, để so sánh các nhãn dự đoán (y_predict) với nhãn thực tế (y_test) cùng với các giá trị 'ID' tương ứng từ tập kiểm thử (X_test_ID)."
      ]
    },
    {
      "cell_type": "code",
      "execution_count": null,
      "id": "dc7d5f75",
      "metadata": {
        "execution": {
          "iopub.execute_input": "2023-11-25T15:25:09.227141Z",
          "iopub.status.busy": "2023-11-25T15:25:09.226384Z",
          "iopub.status.idle": "2023-11-25T15:25:09.239748Z",
          "shell.execute_reply": "2023-11-25T15:25:09.238733Z"
        },
        "papermill": {
          "duration": 0.060185,
          "end_time": "2023-11-25T15:25:09.241979",
          "exception": false,
          "start_time": "2023-11-25T15:25:09.181794",
          "status": "completed"
        },
        "tags": [],
        "id": "dc7d5f75"
      },
      "outputs": [],
      "source": [
        "data_dict = {'ID':X_test_ID,'y_test':y_test,'y_predict':y_predict}\n",
        "final_prediction_caparison = pd.DataFrame(data_dict)\n",
        "final_prediction_caparison"
      ]
    },
    {
      "cell_type": "markdown",
      "id": "8bf25df2",
      "metadata": {
        "papermill": {
          "duration": 0.041738,
          "end_time": "2023-11-25T15:25:09.325816",
          "exception": false,
          "start_time": "2023-11-25T15:25:09.284078",
          "status": "completed"
        },
        "tags": [],
        "id": "8bf25df2"
      },
      "source": [
        "Decision tree model"
      ]
    },
    {
      "cell_type": "code",
      "execution_count": null,
      "id": "ffea4437",
      "metadata": {
        "execution": {
          "iopub.execute_input": "2023-11-25T15:25:09.412745Z",
          "iopub.status.busy": "2023-11-25T15:25:09.411986Z",
          "iopub.status.idle": "2023-11-25T15:25:10.186835Z",
          "shell.execute_reply": "2023-11-25T15:25:10.185255Z"
        },
        "papermill": {
          "duration": 0.824305,
          "end_time": "2023-11-25T15:25:10.192216",
          "exception": false,
          "start_time": "2023-11-25T15:25:09.367911",
          "status": "completed"
        },
        "tags": [],
        "id": "ffea4437"
      },
      "outputs": [],
      "source": [
        "#decision tree\n",
        "model = DecisionTreeClassifier(max_depth=12,\n",
        "                               min_samples_split=8,\n",
        "                               random_state=1024)\n",
        "model.fit(X_train, y_train)\n",
        "y_predict = model.predict(X_test)\n",
        "\n",
        "dt_accuracy_before = accuracy_score(y_test, y_predict)\n",
        "print('Accuracy Score is {:.5}'.format(accuracy_score(y_test, y_predict)))\n",
        "print(pd.DataFrame(confusion_matrix(y_test,y_predict)))\n",
        "\n",
        "plot_confusion_matrix(confusion_matrix(y_test,y_predict),\n",
        "                      classes=class_names,\n",
        "                      title='Confusion Matrix: Decision Tree')"
      ]
    },
    {
      "cell_type": "markdown",
      "id": "ee1e9a2a",
      "metadata": {
        "papermill": {
          "duration": 0.043185,
          "end_time": "2023-11-25T15:25:10.311221",
          "exception": false,
          "start_time": "2023-11-25T15:25:10.268036",
          "status": "completed"
        },
        "tags": [],
        "id": "ee1e9a2a"
      },
      "source": [
        "Random forest"
      ]
    },
    {
      "cell_type": "code",
      "execution_count": null,
      "id": "2e0ff0e5",
      "metadata": {
        "execution": {
          "iopub.execute_input": "2023-11-25T15:25:10.400478Z",
          "iopub.status.busy": "2023-11-25T15:25:10.399707Z",
          "iopub.status.idle": "2023-11-25T15:25:18.307995Z",
          "shell.execute_reply": "2023-11-25T15:25:18.306504Z"
        },
        "papermill": {
          "duration": 7.958393,
          "end_time": "2023-11-25T15:25:18.312940",
          "exception": false,
          "start_time": "2023-11-25T15:25:10.354547",
          "status": "completed"
        },
        "tags": [],
        "id": "2e0ff0e5"
      },
      "outputs": [],
      "source": [
        "# Random forest\n",
        "model = RandomForestClassifier(n_estimators=250,\n",
        "                              max_depth=12,\n",
        "                              min_samples_leaf=16\n",
        "                              )\n",
        "model.fit(X_train, y_train)\n",
        "y_predict = model.predict(X_test)\n",
        "\n",
        "rf_accuracy_before = accuracy_score(y_test, y_predict)\n",
        "print('Accuracy Score is {:.5}'.format(accuracy_score(y_test, y_predict)))\n",
        "print(pd.DataFrame(confusion_matrix(y_test,y_predict)))\n",
        "\n",
        "plot_confusion_matrix(confusion_matrix(y_test,y_predict),\n",
        "                      classes=class_names,\n",
        "                      title='Confusion Matrix: Random Forests')"
      ]
    },
    {
      "cell_type": "code",
      "execution_count": null,
      "id": "d77b3794",
      "metadata": {
        "papermill": {
          "duration": 0.044586,
          "end_time": "2023-11-25T15:25:18.523998",
          "exception": false,
          "start_time": "2023-11-25T15:25:18.479412",
          "status": "completed"
        },
        "tags": [],
        "id": "d77b3794"
      },
      "outputs": [],
      "source": [
        "# Gradient Boosting\n",
        "gb_model = GradientBoostingClassifier(n_estimators=100, learning_rate=0.1, max_depth=3, random_state=42)\n",
        "\n",
        "\n",
        "gb_model.fit(X_train, y_train)\n",
        "y_gb_predict = gb_model.predict(X_test)\n",
        "\n",
        "gb_accuracy_before = accuracy_score(y_test, y_predict)\n",
        "print('Gradient Boosting Accuracy Score is {:.5}'.format(accuracy_score(y_test, y_gb_predict)))\n",
        "print(pd.DataFrame(confusion_matrix(y_test, y_gb_predict)))\n",
        "\n",
        "plot_confusion_matrix(confusion_matrix(y_test, y_gb_predict),\n",
        "                      classes=class_names,\n",
        "                      title='Confusion Matrix: Gradient Boosting')\n"
      ]
    },
    {
      "cell_type": "code",
      "source": [
        "from sklearn.neighbors import KNeighborsClassifier\n",
        "\n",
        "# K-Nearest Neighbors (KNN)\n",
        "knn_model = KNeighborsClassifier(n_neighbors=5)\n",
        "\n",
        "knn_model.fit(X_train, y_train)\n",
        "y_knn_predict = knn_model.predict(X_test)\n",
        "\n",
        "knn_accuracy_before = accuracy_score(y_test, y_knn_predict)\n",
        "print(knn_accuracy_before)\n",
        "print('KNN Accuracy Score is {:.5}'.format(accuracy_score(y_test, y_knn_predict)))\n",
        "print(pd.DataFrame(confusion_matrix(y_test, y_knn_predict)))\n",
        "\n",
        "\n",
        "plot_confusion_matrix(confusion_matrix(y_test, y_knn_predict),\n",
        "                      classes=class_names,\n",
        "                      title='Confusion Matrix: K-Nearest Neighbors')"
      ],
      "metadata": {
        "id": "s73t4tBiKvpc"
      },
      "id": "s73t4tBiKvpc",
      "execution_count": null,
      "outputs": []
    },
    {
      "cell_type": "markdown",
      "source": [],
      "metadata": {
        "id": "XSBfHi0Dzrmw"
      },
      "id": "XSBfHi0Dzrmw"
    },
    {
      "cell_type": "markdown",
      "source": [
        "# 3.1 Sử dụng Feed Forward Neural Network và Reccurent Neural Network để giải quyết bài toán"
      ],
      "metadata": {
        "id": "-2CwdAsMzFvi"
      },
      "id": "-2CwdAsMzFvi"
    },
    {
      "cell_type": "code",
      "source": [
        "# Chuyển đổi dữ liệu đầu vào sang kiểu dữ liệu float32\n",
        "X_train_FNN = np.asarray(X_train).astype(np.float32)\n",
        "X_test_FNN = np.asarray(X_test).astype(np.float32)\n",
        "y_train_FNN = np.asarray(y_train).astype(np.float32)\n",
        "y_test_FNN = np.asarray(y_test).astype(np.float32)\n",
        "\n",
        "fnn_model = Sequential([\n",
        "    Dense(64, input_dim=X_train.shape[1], activation='relu'),\n",
        "    Dense(32, activation='relu'),\n",
        "    Dense(1, activation='sigmoid')\n",
        "])\n",
        "\n",
        "fnn_model.compile(optimizer='adam', loss='binary_crossentropy', metrics=['accuracy'])\n",
        "\n",
        "\n",
        "fnn = fnn_model.fit(X_train_FNN, y_train_FNN, epochs=10, batch_size=32, validation_data=(X_test_FNN, y_test_FNN))\n",
        "fnn_loss, fnn_accuracy = fnn_model.evaluate(X_test_FNN, y_test_FNN)\n",
        "\n",
        "print(f'FNN Accuracy Score is: {fnn_accuracy:.4f}')"
      ],
      "metadata": {
        "id": "Lmw1NFCxztgk"
      },
      "id": "Lmw1NFCxztgk",
      "execution_count": null,
      "outputs": []
    },
    {
      "cell_type": "code",
      "source": [
        "X_train_3D = X_train_FNN.reshape((X_train.shape[0], 1, X_train.shape[1]))\n",
        "X_test_3D = X_test_FNN.reshape((X_test_FNN.shape[0], 1, X_test_FNN.shape[1]))\n",
        "y_train_RNN = np.asarray(y_train_FNN).astype(np.float32)\n",
        "y_test_RNN = np.asarray(y_test_FNN).astype(np.float32)\n",
        "# Tạo mô hình RNN\n",
        "rnn_model = Sequential([\n",
        "    SimpleRNN(50, activation='relu', input_shape=(1, X_train_FNN.shape[1])),\n",
        "    Dense(1, activation='sigmoid')\n",
        "])\n",
        "\n",
        "rnn_model.compile(optimizer='adam', loss='binary_crossentropy', metrics=['accuracy'])\n",
        "rnn = rnn_model.fit(X_train_3D, y_train_RNN, epochs=10, batch_size=32, validation_data=(X_test_3D, y_test_RNN))\n",
        "\n",
        "rnn_loss, rnn_accuracy = rnn_model.evaluate(X_test_3D, y_test_RNN)\n",
        "print(f'RNN Accuracy Score is: {rnn_accuracy:.4f}')"
      ],
      "metadata": {
        "id": "VUpyc2bzzuJD"
      },
      "id": "VUpyc2bzzuJD",
      "execution_count": null,
      "outputs": []
    },
    {
      "cell_type": "markdown",
      "source": [
        "# 4.1 Áp dụng các kỹ thuật tránh Overfiting các mô hình học máy"
      ],
      "metadata": {
        "id": "KrV24dAjLjYr"
      },
      "id": "KrV24dAjLjYr"
    },
    {
      "cell_type": "code",
      "source": [
        "model = DecisionTreeClassifier(\n",
        "    max_depth=15,\n",
        "    min_samples_split=12,\n",
        "    min_samples_leaf=12,\n",
        "    random_state=1024\n",
        ")\n",
        "\n",
        "model.fit(X_train, y_train)\n",
        "y_predict = model.predict(X_test)\n",
        "\n",
        "\n",
        "dt_accuracy_after = accuracy_score(y_test, y_predict)\n",
        "print(' Decision Tree Accuracy Score is {:.5}'.format(dt_accuracy_after))\n",
        "print(pd.DataFrame(confusion_matrix(y_test, y_predict)))\n",
        "\n",
        "plot_confusion_matrix(confusion_matrix(y_test, y_predict),\n",
        "                      classes=class_names,\n",
        "                      title='Confusion Matrix: Decision Tree')\n",
        "\n",
        "print('\\n Decision Tree Accuracy Score before is ', dt_accuracy_before)\n",
        "print(' Decision Tree Accuracy Score after is ', dt_accuracy_after)"
      ],
      "metadata": {
        "id": "os_lZPbbTLMd"
      },
      "id": "os_lZPbbTLMd",
      "execution_count": null,
      "outputs": []
    },
    {
      "cell_type": "code",
      "source": [
        "# Adjusted parameters to prevent overfitting\n",
        "gb_model = GradientBoostingClassifier(n_estimators=200, learning_rate=0.05, max_depth=5, min_samples_split=5,\n",
        "                                      min_samples_leaf=2, random_state=42)\n",
        "\n",
        "gb_model.fit(X_train, y_train)\n",
        "y_gb_predict = gb_model.predict(X_test)\n",
        "\n",
        "gb_accuracy_after = accuracy_score(y_test, y_gb_predict)\n",
        "print('Gradient Boosting Accuracy Score is {:.5}'.format(gb_accuracy_after))\n",
        "print(pd.DataFrame(confusion_matrix(y_test, y_gb_predict)))\n",
        "\n",
        "plot_confusion_matrix(confusion_matrix(y_test, y_gb_predict),\n",
        "                      classes=class_names,\n",
        "                      title='Confusion Matrix: Gradient Boosting')\n",
        "\n",
        "print('\\nGradient Boosting Accuracy Score before is ', gb_accuracy_before)\n",
        "print('Gradient Boosting Accuracy Score after is ', gb_accuracy_after)"
      ],
      "metadata": {
        "id": "gp62NF3ETg8O"
      },
      "id": "gp62NF3ETg8O",
      "execution_count": null,
      "outputs": []
    },
    {
      "cell_type": "code",
      "source": [
        "#random forest\n",
        "model = RandomForestClassifier(n_estimators=350,\n",
        "                              max_depth=15,\n",
        "                              min_samples_leaf=20\n",
        "                              )\n",
        "model.fit(X_train, y_train)\n",
        "y_predict = model.predict(X_test)\n",
        "\n",
        "rf_accuracy_after = accuracy_score(y_test, y_predict)\n",
        "print('Random forest Accuracy Score is {:.5}'.format(accuracy_score(y_test, y_predict)))\n",
        "print(pd.DataFrame(confusion_matrix(y_test,y_predict)))\n",
        "\n",
        "plot_confusion_matrix(confusion_matrix(y_test,y_predict),\n",
        "                      classes=class_names,\n",
        "                      title='Confusion Matrix: Random Forests')\n",
        "\n",
        "\n",
        "print('\\nRandom forest Accuracy Score before is ', rf_accuracy_before)\n",
        "print('Random forest Accuracy Score after is ', rf_accuracy_after)\n"
      ],
      "metadata": {
        "id": "2oBNbi01L842"
      },
      "id": "2oBNbi01L842",
      "execution_count": null,
      "outputs": []
    },
    {
      "cell_type": "code",
      "source": [
        "# K-Nearest Neighbors (KNN)\n",
        "knn_model = KNeighborsClassifier(n_neighbors=5, weights='uniform')  # Điều chỉnh số láng giềng và trọng số nếu cần thiết\n",
        "knn_model.fit(X_train, y_train)\n",
        "\n",
        "y_knn_predict = knn_model.predict(X_test)\n",
        "knn_accuracy_after = accuracy_score(y_test, y_knn_predict)\n",
        "print('KNN Accuracy Score is {:.5}'.format(knn_accuracy_after))\n",
        "print(pd.DataFrame(confusion_matrix(y_test, y_knn_predict)))\n",
        "\n",
        "plot_confusion_matrix(confusion_matrix(y_test, y_knn_predict),\n",
        "                      classes=class_names,\n",
        "                      title='Confusion Matrix: K-Nearest Neighbors')\n",
        "\n",
        "print('\\nKNN Accuracy Score before is ', knn_accuracy_before)\n",
        "print('KNN Accuracy Score after is ', knn_accuracy_after)"
      ],
      "metadata": {
        "id": "pHhYpBMVVN23"
      },
      "id": "pHhYpBMVVN23",
      "execution_count": null,
      "outputs": []
    },
    {
      "cell_type": "markdown",
      "source": [
        "# 4.2 Áp dụng các kỹ thuật tránh Overfiting cho FNN và RNN"
      ],
      "metadata": {
        "id": "rCMzs7hn3ywe"
      },
      "id": "rCMzs7hn3ywe"
    },
    {
      "cell_type": "code",
      "source": [
        "def plot_comparison(history1, history2, metric='accuracy'):\n",
        "    plt.plot(history1.history[metric], label='Without Overfitting')\n",
        "    plt.plot(history2.history[metric], label='With Overfitting')\n",
        "    plt.title(f'Model Comparison - {metric}')\n",
        "    plt.xlabel('Epoch')\n",
        "    plt.ylabel(metric)\n",
        "    plt.legend()\n",
        "    plt.show()\n"
      ],
      "metadata": {
        "id": "y0flWeD-4JDo"
      },
      "id": "y0flWeD-4JDo",
      "execution_count": null,
      "outputs": []
    },
    {
      "cell_type": "code",
      "source": [
        "# Tạo mô hình FNN có sử dụng tránh Overfiting\n",
        "fnn_model = Sequential([\n",
        "    Dense(64, input_dim=X_train.shape[1], activation='relu'),\n",
        "    Dropout(0.5),\n",
        "    Dense(32, activation='relu'),\n",
        "    Dropout(0.5),\n",
        "    Dense(1, activation='sigmoid')\n",
        "])\n",
        "\n",
        "fnn_model.compile(optimizer='adam', loss='binary_crossentropy', metrics=['accuracy'])\n",
        "fnn_dropout = fnn_model.fit(X_train_FNN, y_train_FNN, epochs=10, batch_size=32, validation_data=(X_test_FNN, y_test_FNN))\n",
        "\n",
        "\n",
        "fnn_loss, fnn_accuracy_dropout = fnn_model.evaluate(X_test_FNN, y_test_FNN)\n",
        "print(f'FNN Accuracy Score is: {fnn_accuracy:.4f}')"
      ],
      "metadata": {
        "id": "dKZMbTOh4h7w"
      },
      "id": "dKZMbTOh4h7w",
      "execution_count": null,
      "outputs": []
    },
    {
      "cell_type": "code",
      "source": [
        "# Tạo mô hình RNN có sử dụng tránh Overfiting\n",
        "rnn_model = Sequential([\n",
        "    Dropout(0.5),\n",
        "    SimpleRNN(50, activation='relu', input_shape=(1, X_train_FNN.shape[1])),\n",
        "    Dense(1, activation='sigmoid')\n",
        "])\n",
        "\n",
        "rnn_model.compile(optimizer='adam', loss='binary_crossentropy', metrics=['accuracy'])\n",
        "\n",
        "\n",
        "rnn_dropout = rnn_model.fit(X_train_3D, y_train_RNN, epochs=10, batch_size=32, validation_data=(X_test_3D, y_test_RNN))\n",
        "\n",
        "rnn_loss, rnn_accuracy = rnn_model.evaluate(X_test_3D, y_test_RNN)\n",
        "print(f'RNN Accuracy Score is: {rnn_accuracy:.4f}')"
      ],
      "metadata": {
        "id": "O4l3J3wW-3Ol"
      },
      "id": "O4l3J3wW-3Ol",
      "execution_count": null,
      "outputs": []
    },
    {
      "cell_type": "code",
      "source": [
        "# So sánh độ chính xác\n",
        "plot_comparison(fnn, fnn_dropout, metric='accuracy')\n",
        "# So sánh hàm mất mát\n",
        "plot_comparison(fnn, fnn_dropout, metric='loss')"
      ],
      "metadata": {
        "id": "d49FbGZZ5Utr"
      },
      "id": "d49FbGZZ5Utr",
      "execution_count": null,
      "outputs": []
    },
    {
      "cell_type": "code",
      "source": [
        "# So sánh độ chính xác\n",
        "plot_comparison(rnn, rnn_dropout, metric='accuracy')\n",
        "# So sánh hàm mất mát\n",
        "plot_comparison(rnn, rnn_dropout, metric='loss')\n"
      ],
      "metadata": {
        "id": "h3r_zEdp_Qy3"
      },
      "id": "h3r_zEdp_Qy3",
      "execution_count": null,
      "outputs": []
    },
    {
      "cell_type": "markdown",
      "source": [
        "# 5.1 Các giải pháp để cải tiến mô hình"
      ],
      "metadata": {
        "id": "kt9sVoQO-g1T"
      },
      "id": "kt9sVoQO-g1T"
    },
    {
      "cell_type": "markdown",
      "source": [
        "Để cải thiện độ chính xác của mô hình sau khi đã huấn luyện, chúng ta có thể thực hiện các bước sau:\n",
        "\n",
        "1.   Phân tích Trường hợp Sai: Xem xét các trường hợp mà mô hình dự đoán sai. Phân tích các false positives và false negatives để hiểu rõ hơn về lý do mô hình đưa ra các quyết định không chính xác.\n",
        "\n",
        "2.   Tinh chỉnh Tham số Mô hình: Kiểm tra và điều chỉnh các tham số của mô hình. Sử dụng kỹ thuật tinh chỉnh hyperparameters như Grid Search hoặc Random Search để tìm ra các giá trị tham số tốt nhất.\n",
        "\n",
        "3. Tăng cường Dữ liệu (Data Augmentation): Tăng kích thước của tập dữ liệu bằng cách thêm các biến thể của các mẫu hiện có hoặc tạo dữ liệu tổng hợp. Điều này có thể giúp mô hình học được từ nhiều biến thể hơn và cải thiện khả năng tổng quát hóa.\n",
        "\n",
        "4. Điều chỉnh các yếu tố như độ sâu của cây (đối với cây quyết định), số lượng cây (đối với rừng ngẫu nhiên), hay số lượng layer và units (đối với mạng nơ-ron) để kiểm soát overfitting và underfitting.\n",
        "\n",
        "Biện pháp đã sử dụng trong bài toán:\n",
        "\n",
        "1.   Tinh chỉnh Tham số Mô hình: Kiểm tra và điều chỉnh các tham số của mô hình. Sử dụng kỹ thuật tinh chỉnh hyperparameters như Grid Search hoặc Random Search để tìm ra các giá trị tham số tốt nhất.\n",
        "\n",
        "2. Điều chỉnh các yếu tố như độ sâu của cây (đối với cây quyết định), số lượng cây (đối với rừng ngẫu nhiên), hay số lượng layer và units (đối với mạng nơ-ron) để kiểm soát overfitting và underfitting.\n",
        "\n",
        "**==> Kết quả đã được cải thiện, mô hình học chính xác hơn:**\n",
        "\n"
      ],
      "metadata": {
        "id": "QuoBT4pycVNy"
      },
      "id": "QuoBT4pycVNy"
    }
  ],
  "metadata": {
    "kaggle": {
      "accelerator": "none",
      "dataSources": [
        {
          "datasetId": 426827,
          "sourceId": 1031720,
          "sourceType": "datasetVersion"
        }
      ],
      "dockerImageVersionId": 30587,
      "isGpuEnabled": false,
      "isInternetEnabled": true,
      "language": "python",
      "sourceType": "notebook"
    },
    "kernelspec": {
      "display_name": "Python 3",
      "language": "python",
      "name": "python3"
    },
    "language_info": {
      "codemirror_mode": {
        "name": "ipython",
        "version": 3
      },
      "file_extension": ".py",
      "mimetype": "text/x-python",
      "name": "python",
      "nbconvert_exporter": "python",
      "pygments_lexer": "ipython3",
      "version": "3.10.12"
    },
    "papermill": {
      "default_parameters": {},
      "duration": 36.030192,
      "end_time": "2023-11-25T15:25:19.492051",
      "environment_variables": {},
      "exception": null,
      "input_path": "__notebook__.ipynb",
      "output_path": "__notebook__.ipynb",
      "parameters": {},
      "start_time": "2023-11-25T15:24:43.461859",
      "version": "2.4.0"
    },
    "colab": {
      "provenance": []
    }
  },
  "nbformat": 4,
  "nbformat_minor": 5
}